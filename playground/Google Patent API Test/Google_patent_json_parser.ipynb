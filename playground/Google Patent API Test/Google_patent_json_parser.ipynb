{
 "cells": [
  {
   "cell_type": "code",
   "execution_count": 2,
   "metadata": {},
   "outputs": [],
   "source": [
    "import json\n",
    "\n",
    "f = open('coffee_patents.json')\n",
    "\n",
    "data = json.load(f)"
   ]
  },
  {
   "cell_type": "code",
   "execution_count": 9,
   "metadata": {},
   "outputs": [],
   "source": [
    "i = (0,9)"
   ]
  },
  {
   "cell_type": "code",
   "execution_count": 7,
   "metadata": {},
   "outputs": [
    {
     "data": {
      "text/plain": [
       "'Nitrogen infused soluble cold brew instant coffee and process for preparation'"
      ]
     },
     "execution_count": 7,
     "metadata": {},
     "output_type": "execute_result"
    }
   ],
   "source": [
    "data['organic_results'][0]['title']"
   ]
  },
  {
   "cell_type": "code",
   "execution_count": 37,
   "metadata": {},
   "outputs": [
    {
     "name": "stdout",
     "output_type": "stream",
     "text": [
      "Result 1 :  Nitrogen infused soluble cold brew instant coffee and process for preparation\n",
      "https://patentimages.storage.googleapis.com/dd/c2/d6/c416a24825f9c5/US11266160.pdf \n",
      "\n",
      "Result 2 :  Foaming soluble coffee powder containing pressurized gas\n",
      "https://patentimages.storage.googleapis.com/86/1c/bd/89a41d9faca215/US8110241.pdf \n",
      "\n",
      "Result 3 :  Roasted and ground powdered coffee and methods for its production\n",
      "https://patentimages.storage.googleapis.com/ab/3c/bb/d5d4b21616f08c/RU2766609C2.pdf \n",
      "\n",
      "Result 4 :  Automatic coffee maker and process for preparing a cold brewed beverage\n",
      "https://patentimages.storage.googleapis.com/84/9c/1e/c02783fbdf39e5/CA3104644C.pdf \n",
      "\n",
      "Result 5 :  Method and apparatus for brewing coffee via universal coffee brewing chart …\n",
      "https://patentimages.storage.googleapis.com/9b/13/3b/04ede26a15302b/US8495950.pdf \n",
      "\n",
      "Result 6 :  Method and apparatus for replicating coffee flavor\n",
      "https://patentimages.storage.googleapis.com/3b/55/e6/f683f7014e7dad/AU2018267547B2.pdf \n",
      "\n",
      "Result 7 :  Coffee infusion press filter for stackable cups\n",
      "https://patentimages.storage.googleapis.com/a9/2c/b7/2fd7ef2b2c2ee3/CN100581423C.pdf \n",
      "\n",
      "Result 8 :  Coffee making apparatus\n",
      "https://patentimages.storage.googleapis.com/21/46/60/f6f98a1dc95fe5/CN101232829B.pdf \n",
      "\n",
      "Result 9 :  Coffee machine\n",
      "https://patentimages.storage.googleapis.com/54/55/93/7912dd0c1d192e/CN1830369B.pdf \n",
      "\n",
      "Result 10 :  Automatic aroma dispenser for espresso coffee machine\n",
      "https://patentimages.storage.googleapis.com/f6/c9/68/75a71f6a1a922c/ES2539398T3.pdf \n",
      "\n"
     ]
    }
   ],
   "source": [
    "for i in data['organic_results']:\n",
    "\n",
    "    print(\"Result\", i['position'], \": \", i['title'])\n",
    "    # print(i['snippet'], \"\\n\")\n",
    "    print(i['pdf'], \"\\n\")"
   ]
  }
 ],
 "metadata": {
  "kernelspec": {
   "display_name": "lab",
   "language": "python",
   "name": "python3"
  },
  "language_info": {
   "codemirror_mode": {
    "name": "ipython",
    "version": 3
   },
   "file_extension": ".py",
   "mimetype": "text/x-python",
   "name": "python",
   "nbconvert_exporter": "python",
   "pygments_lexer": "ipython3",
   "version": "3.11.6"
  }
 },
 "nbformat": 4,
 "nbformat_minor": 2
}
