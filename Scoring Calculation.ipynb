{
 "cells": [
  {
   "cell_type": "code",
   "execution_count": 16,
   "metadata": {},
   "outputs": [],
   "source": [
    "def transform_ratings(ratings, new_min=0, new_max=10):\n",
    "    # Determine the smallest and largest value in the original dictionary\n",
    "    old_min, old_max = min(ratings.values()), max(ratings.values())\n",
    "    transformed_ratings = {}\n",
    "    for key, value in ratings.items():\n",
    "        # Apply the transformation with dynamic old and new ranges\n",
    "        transformed_value = ((value - old_min) / (old_max - old_min)) * (new_max - new_min) + new_min\n",
    "        transformed_ratings[key] = transformed_value\n",
    "    return transformed_ratings\n",
    "\n",
    "def delete_entries_with_zero(ratings):\n",
    "    # Create a new dictionary without the entries with the value 0\n",
    "    cleaned_dict = {key: value for key, value in ratings.items() if value != 0}\n",
    "    return cleaned_dict\n",
    "\n",
    "def calculate_average_and_unite(dict_a, dict_b):\n",
    "    combined_dict = {}\n",
    "    # Union of keys from both dictionaries\n",
    "    all_keys = set(dict_a.keys()) | set(dict_b.keys())\n",
    "    \n",
    "    for key in all_keys:\n",
    "        values = []\n",
    "        if key in dict_a:\n",
    "            values.append(dict_a[key])\n",
    "        if key in dict_b:\n",
    "            values.append(dict_b[key])\n",
    "        # Calculate the average if the key is present in both dictionaries\n",
    "        combined_dict[key] = sum(values) / len(values)\n",
    "    \n",
    "    # Sort the dictionary from high to low based on the values\n",
    "    sorted_combined_dict = dict(sorted(combined_dict.items(), key=lambda item: item[1], reverse=True))\n",
    "    \n",
    "    return sorted_combined_dict\n",
    "\n",
    "def transform_and_calculate(dict_a, dict_b):\n",
    "    a = transform_ratings(dict_a)\n",
    "    b = transform_ratings(dict_b)\n",
    "    return calculate_average_and_unite(a, b)"
   ]
  },
  {
   "cell_type": "code",
   "execution_count": 17,
   "metadata": {},
   "outputs": [],
   "source": [
    "LLM = {\"US6271745B1\": 0, \"US6100811A\": 0, \"US7864029B2\": 2, \"US10246055B2\": 5, \"EP2058197B1\": 7, \"US20160087957A1\": 8, \"EP3014837B1\": 9}\n",
    "Vector = {\"US6271745B1\": 3, \"US6100811A\": 4, \"US7864029B2\": 5, \"US10246055B2\": 6, \"EP2058197B1\": 7, \"US20160087957A1\": 8, \"EP3014837B1\":9}"
   ]
  },
  {
   "cell_type": "code",
   "execution_count": 18,
   "metadata": {},
   "outputs": [
    {
     "data": {
      "text/plain": [
       "{'EP3014837B1': 10.0,\n",
       " 'US20160087957A1': 8.452380952380953,\n",
       " 'EP2058197B1': 6.904761904761905,\n",
       " 'US10246055B2': 4.642857142857142,\n",
       " 'US7864029B2': 1.6666666666666665,\n",
       " 'US6100811A': 1.6666666666666665,\n",
       " 'US6271745B1': 0.0}"
      ]
     },
     "execution_count": 18,
     "metadata": {},
     "output_type": "execute_result"
    }
   ],
   "source": [
    "LLM = delete_entries_with_zero(LLM)\n",
    "transform_and_calculate(LLM,Vector)"
   ]
  }
 ],
 "metadata": {
  "kernelspec": {
   "display_name": "Python 3",
   "language": "python",
   "name": "python3"
  },
  "language_info": {
   "codemirror_mode": {
    "name": "ipython",
    "version": 3
   },
   "file_extension": ".py",
   "mimetype": "text/x-python",
   "name": "python",
   "nbconvert_exporter": "python",
   "pygments_lexer": "ipython3",
   "version": "3.11.6"
  }
 },
 "nbformat": 4,
 "nbformat_minor": 2
}
