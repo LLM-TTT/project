{
 "cells": [
  {
   "cell_type": "code",
   "execution_count": 6,
   "metadata": {},
   "outputs": [],
   "source": [
    "def transformiere_bewertungen(bewertungen):\n",
    "    a, b = 3, 9  # Ursprünglicher Bereich\n",
    "    c, d = 0, 10  # Neuer Bereich\n",
    "    transformierte_bewertungen = {}\n",
    "    for schlüssel, wert in bewertungen.items():\n",
    "        transformierter_wert = ((wert - a) / (b - a)) * (d - c) + c\n",
    "        transformierte_bewertungen[schlüssel] = transformierter_wert\n",
    "    return transformierte_bewertungen\n",
    "\n",
    "def transformiere_bewertungen_variabel(bewertungen, neuer_min=0, neuer_max=10):\n",
    "    # Ermittlung des kleinsten und größten Werts im ursprünglichen Dictionary\n",
    "    alter_min, alter_max = min(bewertungen.values()), max(bewertungen.values())\n",
    "    transformierte_bewertungen = {}\n",
    "    for schlüssel, wert in bewertungen.items():\n",
    "        # Anwendung der Transformation mit dynamischen alten und neuen Bereichen\n",
    "        transformierter_wert = ((wert - alter_min) / (alter_max - alter_min)) * (neuer_max - neuer_min) + neuer_min\n",
    "        transformierte_bewertungen[schlüssel] = transformierter_wert\n",
    "    return transformierte_bewertungen\n",
    "\n",
    "def loesche_eintraege_mit_null(bewertungen):\n",
    "    # Erstellen eines neuen Dictionaries ohne die Einträge mit dem Wert 0\n",
    "    bereinigtes_dict = {schlüssel: wert for schlüssel, wert in bewertungen.items() if wert != 0}\n",
    "    return bereinigtes_dict\n",
    "\n",
    "def berechne_durchschnitt_und_vereinige(dict_a, dict_b):\n",
    "    gemeinsames_dict = {}\n",
    "    # Vereinigung der Schlüssel aus beiden Dictionaries\n",
    "    alle_schluessel = set(dict_a.keys()) | set(dict_b.keys())\n",
    "    \n",
    "    for schluessel in alle_schluessel:\n",
    "        werte = []\n",
    "        if schluessel in dict_a:\n",
    "            werte.append(dict_a[schluessel])\n",
    "        if schluessel in dict_b:\n",
    "            werte.append(dict_b[schluessel])\n",
    "        # Berechnung des Durchschnitts, wenn der Schlüssel in beiden Dictionaries vorhanden ist\n",
    "        gemeinsames_dict[schluessel] = sum(werte) / len(werte)\n",
    "    \n",
    "    return gemeinsames_dict\n",
    "\n",
    "def berechne_durchschnitt_und_vereinige_sortiert(dict_a, dict_b):\n",
    "    gemeinsames_dict = {}\n",
    "    # Vereinigung der Schlüssel aus beiden Dictionaries\n",
    "    alle_schluessel = set(dict_a.keys()) | set(dict_b.keys())\n",
    "    \n",
    "    for schluessel in alle_schluessel:\n",
    "        werte = []\n",
    "        if schluessel in dict_a:\n",
    "            werte.append(dict_a[schluessel])\n",
    "        if schluessel in dict_b:\n",
    "            werte.append(dict_b[schluessel])\n",
    "        # Berechnung des Durchschnitts, wenn der Schlüssel in beiden Dictionaries vorhanden ist\n",
    "        gemeinsames_dict[schluessel] = sum(werte) / len(werte)\n",
    "    \n",
    "    # Sortieren des Dictionaries von hoch nach tief basierend auf den Werten\n",
    "    sortiertes_gemeinsames_dict = dict(sorted(gemeinsames_dict.items(), key=lambda item: item[1], reverse=True))\n",
    "    \n",
    "    return sortiertes_gemeinsames_dict"
   ]
  },
  {
   "cell_type": "code",
   "execution_count": null,
   "metadata": {},
   "outputs": [],
   "source": [
    "LLM = {\"US6271745B1\": 0, \"US6100811A\": 0, \"US7864029B2\": 2, \"US10246055B2\": 5, \"EP2058197B1\": 7, \"US20160087957A1\": 8, \"EP3014837B1\": 9}\n",
    "Vector = {\"US6271745B1\": 3, \"US6100811A\": 4, \"US7864029B2\": 5, \"US10246055B2\": 6, \"EP2058197B1\": 7, \"US20160087957A1\": 8, \"EP3014837B1\":9}"
   ]
  },
  {
   "cell_type": "code",
   "execution_count": 2,
   "metadata": {},
   "outputs": [
    {
     "data": {
      "text/plain": [
       "{'US7864029B2': 0.0,\n",
       " 'US10246055B2': 4.285714285714286,\n",
       " 'EP2058197B1': 7.142857142857143,\n",
       " 'US20160087957A1': 8.571428571428571,\n",
       " 'EP3014837B1': 10.0}"
      ]
     },
     "execution_count": 2,
     "metadata": {},
     "output_type": "execute_result"
    }
   ],
   "source": [
    "LLM = loesche_eintraege_mit_null(LLM)\n",
    "LLM = transformiere_bewertungen_variabel(LLM)\n",
    "LLM"
   ]
  },
  {
   "cell_type": "code",
   "execution_count": 3,
   "metadata": {},
   "outputs": [
    {
     "data": {
      "text/plain": [
       "{'US6271745B1': 0.0,\n",
       " 'US6100811A': 1.6666666666666665,\n",
       " 'US7864029B2': 3.333333333333333,\n",
       " 'US10246055B2': 5.0,\n",
       " 'EP2058197B1': 6.666666666666666,\n",
       " 'US20160087957A1': 8.333333333333334,\n",
       " 'EP3014837B1': 10.0}"
      ]
     },
     "execution_count": 3,
     "metadata": {},
     "output_type": "execute_result"
    }
   ],
   "source": [
    "Vector = transformiere_bewertungen_variabel(Vector)\n",
    "Vector"
   ]
  },
  {
   "cell_type": "code",
   "execution_count": 4,
   "metadata": {},
   "outputs": [
    {
     "data": {
      "text/plain": [
       "{'EP3014837B1': 10.0,\n",
       " 'US20160087957A1': 8.452380952380953,\n",
       " 'EP2058197B1': 6.904761904761905,\n",
       " 'US10246055B2': 4.642857142857142,\n",
       " 'US7864029B2': 1.6666666666666665,\n",
       " 'US6100811A': 1.6666666666666665,\n",
       " 'US6271745B1': 0.0}"
      ]
     },
     "execution_count": 4,
     "metadata": {},
     "output_type": "execute_result"
    }
   ],
   "source": [
    "berechne_durchschnitt_und_vereinige_sortiert(LLM,Vector)"
   ]
  }
 ],
 "metadata": {
  "kernelspec": {
   "display_name": "Python 3",
   "language": "python",
   "name": "python3"
  },
  "language_info": {
   "codemirror_mode": {
    "name": "ipython",
    "version": 3
   },
   "file_extension": ".py",
   "mimetype": "text/x-python",
   "name": "python",
   "nbconvert_exporter": "python",
   "pygments_lexer": "ipython3",
   "version": "3.11.6"
  }
 },
 "nbformat": 4,
 "nbformat_minor": 2
}
