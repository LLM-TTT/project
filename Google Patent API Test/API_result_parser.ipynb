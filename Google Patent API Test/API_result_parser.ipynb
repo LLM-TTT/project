{
 "cells": [
  {
   "cell_type": "code",
   "execution_count": 3,
   "metadata": {},
   "outputs": [
    {
     "name": "stdout",
     "output_type": "stream",
     "text": [
      " Intelligent identity identification system of vehicle\n",
      " Vehicle authentication device\n",
      " Biometric authentication system\n",
      " Vehicle control device\n",
      " Biometric authentication system\n",
      " Personal authentication software and system for travel privilege assignment and &hellip;\n",
      " Authentication device for vehicle and authentication method for vehicle\n",
      " Unlocking device for vehicle\n",
      " Unlocking device for vehicle\n",
      " Starting preparation device of engine for vehicle\n"
     ]
    }
   ],
   "source": [
    "import json\n",
    "\n",
    "f = open('daten.json')\n",
    "\n",
    "data = json.load(f)\n",
    "\n",
    "for cluster in data['results']['cluster']:\n",
    "    for patent in cluster['result']:\n",
    "        print(patent['patent']['title'])"
   ]
  }
 ],
 "metadata": {
  "kernelspec": {
   "display_name": "lab",
   "language": "python",
   "name": "python3"
  },
  "language_info": {
   "codemirror_mode": {
    "name": "ipython",
    "version": 3
   },
   "file_extension": ".py",
   "mimetype": "text/x-python",
   "name": "python",
   "nbconvert_exporter": "python",
   "pygments_lexer": "ipython3",
   "version": "3.11.6"
  }
 },
 "nbformat": 4,
 "nbformat_minor": 2
}
