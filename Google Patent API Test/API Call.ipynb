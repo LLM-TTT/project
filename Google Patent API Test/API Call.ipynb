{
 "cells": [
  {
   "cell_type": "code",
   "execution_count": 1,
   "metadata": {},
   "outputs": [],
   "source": [
    "import requests\n",
    "import json\n",
    "\n",
    "# API URL\n",
    "url = 'https://serpapi.com/search.html?engine=google_patents&q=Advanced+Biometric+Authentication+in+Vehicles&api_key=7661f86900cb42b2782c2af5c95142574b959dd5546c98491652475ea91e278e'\n",
    "\n",
    "# API call\n",
    "response = requests.get(url)\n",
    "\n",
    "# Check, if API call was successful\n",
    "if response.status_code == 200:\n",
    "    # extract JSON data from answer\n",
    "    data = response.json()\n",
    "\n",
    "    # save JSON data in a file\n",
    "    with open('daten.json', 'w') as file:\n",
    "        json.dump(data, file, indent=4)\n",
    "else:\n",
    "    print(f\"Fehler bei der API-Anfrage: Statuscode {response.status_code}\")\n"
   ]
  }
 ],
 "metadata": {
  "kernelspec": {
   "display_name": "lab",
   "language": "python",
   "name": "python3"
  },
  "language_info": {
   "codemirror_mode": {
    "name": "ipython",
    "version": 3
   },
   "file_extension": ".py",
   "mimetype": "text/x-python",
   "name": "python",
   "nbconvert_exporter": "python",
   "pygments_lexer": "ipython3",
   "version": "3.11.6"
  }
 },
 "nbformat": 4,
 "nbformat_minor": 2
}
