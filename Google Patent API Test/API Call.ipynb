{
 "cells": [
  {
   "cell_type": "code",
   "execution_count": 1,
   "metadata": {},
   "outputs": [],
   "source": [
    "import requests\n",
    "import json\n",
    "import os\n",
    "\n",
    "patent_api_key = os.environ['GOOGLE_PATENT_API_KEY']"
   ]
  },
  {
   "cell_type": "code",
   "execution_count": 2,
   "metadata": {},
   "outputs": [],
   "source": [
    "openai_response = 'Secure Access to Vehicles using Biometric'"
   ]
  },
  {
   "cell_type": "code",
   "execution_count": 3,
   "metadata": {},
   "outputs": [],
   "source": [
    "url_base = \"https://serpapi.com/search.html?engine=google_patents\"\n",
    "query = openai_response.replace(\" \", \"+\")\n",
    "url = url_base + \"&q=\" + query + \"&api_key=\" + patent_api_key"
   ]
  },
  {
   "cell_type": "code",
   "execution_count": 4,
   "metadata": {},
   "outputs": [],
   "source": [
    "# API URL\n",
    "url = 'https://serpapi.com/search.html?engine=google_patents&q=Advanced+Biometric+Authentication+in+Vehicles&api_key=7661f86900cb42b2782c2af5c95142574b959dd5546c98491652475ea91e278e'\n",
    "\n",
    "# API call\n",
    "response = requests.get(url)\n",
    "\n",
    "# Check if API call was successful\n",
    "if response.status_code == 200:\n",
    "    # extract JSON data from answer\n",
    "    data = response.json()\n",
    "\n",
    "    # save JSON data in a file\n",
    "    filename = \"../data_dump/\" + query + \".json\"\n",
    "    with open(filename, 'w') as file:\n",
    "        json.dump(data, file, indent=4)\n",
    "else:\n",
    "    print(f\"Error with API request: Status code {response.status_code}\")\n"
   ]
  }
 ],
 "metadata": {
  "kernelspec": {
   "display_name": "lab",
   "language": "python",
   "name": "python3"
  },
  "language_info": {
   "codemirror_mode": {
    "name": "ipython",
    "version": 3
   },
   "file_extension": ".py",
   "mimetype": "text/x-python",
   "name": "python",
   "nbconvert_exporter": "python",
   "pygments_lexer": "ipython3",
   "version": "3.11.6"
  }
 },
 "nbformat": 4,
 "nbformat_minor": 2
}
