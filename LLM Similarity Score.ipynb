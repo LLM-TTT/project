{
 "cells": [
  {
   "cell_type": "code",
   "execution_count": 13,
   "metadata": {},
   "outputs": [],
   "source": [
    "patent_data = {1:{\"abstract\":\"A wireless system for neurological and physiological monitoring of a patient. The system includes a patient monitoring unit having a headcap and a belt. The headcap includes a wireless communication module, an antenna, and an amplifier. The headcap further includes at least one of a biopotential electrode, a temperature sensor, a rotation sensor, an accelerometer, and an airflow sensor. The belt includes a respiration sensor comprising a carbon nanotube-based strain sensor. The system also includes a base receiver-server unit including a wireless receiving unit, a data storage unit, and a network communications unit. The system also includes a client monitoring unit which includes a processor, a network communications unit operably coupled to the processor, and a storage medium operably coupled to the processor, wherein the storage medium includes program instructions executable by the processor for receiving and processing data from the patient monitoring unit.\"},\n",
    "                2:{\"abstract\":\"Methods, systems, and devices are disclosed for wearable, real-time multimodal sensing of electrochemical and electrophysiological and/or physical parameters of a user. In some aspects, a multimodal sensor device includes a flexible substrate; an electrochemical sensor disposed on the substrate and including electrochemical sensing electrodes operable to measure an electrical signal corresponding to a reaction including a chemical substance via an electrochemical sensing electrode and an analyte at the electrochemical sensor; and an electrophysiological sensor including two or more electrodes disposed on the substrate to acquire an electrophysiological signal of the user, such that when the multimodal sensor device is electrically coupled to an electronics unit and adhered to the user, the device is operable to simultaneously monitor an electrochemical parameter and an electrophysiological parameter of the user.\"},\n",
    "                3:{\"abstract\":\"The present invention relates to a wrist-type health care device, comprising: a device attached to a user's wrist to measure biometric information, the apparatus including an air tube for pressurizing and depressurizing the user's wrist, and a cuff surrounding the wrist of the user And a body part integrally formed with the cuff part, wherein the body part includes a measuring plate part having one or more measuring sensors which are in contact with the user's wrist to measure the biometric information. By using the wrist-type healthcare device as described above, various biological information (oxygen saturation, pulse rate, pulse pressure, body temperature, electrocardiogram, body fat, movement, activity amount, blood pressure) can be obtained by simple operation of the health care device worn on the wrist. Can be.\"},\n",
    "                4:{\"abstract\":\"This patent introduces an advanced wearable health monitoring device, equipped with a suite of sensors to track vital signs. Incorporated in a user-friendly, flexible band, the system includes sensors for measuring perspiration, cardiac rhythms, and body temperature. It seamlessly syncs with smartphones or central health systems, offering immediate insights into the user’s physical condition. The device excels in continuous health surveillance, beneficial for both medical diagnostics and fitness tracking. Its predictive algorithms enhance early detection of potential health concerns, providing a proactive approach to health management.\"},\n",
    "                5:{\"abstract\":\"The utility model discloses a kind of wearable sport monitoring device, including head fixing device and garment body, the first power module, eeg monitoring module and signal emission module are installed on head fixing device；The chest locations of garment body install cardioelectric monitor module, the oxter of garment body is equipped with temperature monitoring module, electrophysiological monitoring module is equipped at the arm of garment body, step number monitoring modular and pulse blood oxygen monitoring modular are equipped at the cuff of garment body, perspiration sensor is equipped at the waist of garment body, second power supply module and central processing unit are additionally provided in garment body, cardioelectric monitor module, temperature monitoring module, electrophysiological monitoring module, step number monitoring modular, pulse blood oxygen monitoring modular and perspiration sensor are electrically connected with second power supply module and central processing unit, signal rceiving module is provided on central processing unit.The utility model is during the motion, easy to wear, can be monitored and analyzed to many index of the physical function parameter of sporter.\"},\n",
    "                6:{\"abstract\":\"PROBLEM TO BE SOLVED: To provide a compact system that can be mounted for a long period of time in a patch type biological monitoring system. SOLUTION: A sensor 1002 continuously detects an ECG signal 1004, and extracts a plurality of features 1006 indicating feature examples A, B, and C. A feature 1008 is transmitted to a processing device/server 1012, and a transmitted feature 1014 executes analysis through a rhythm estimation system 1016 that analyzes and identifies a segment/position 1018 where an irregular pulse is thought to be contained.\"},\n",
    "                7:{\"abstract\":\"Techniques for measuring ion related metrics at a user's skin surface are disclosed. In one aspect, a method for operating a wearable device may involve determining, based on output of one or more ion selective field effect transistor sensors, various physiological conditions such as a state of hydration, a state of skin health, or the cleanliness of the wearable device or an associated garment.\"},\n",
    "                8:{\"abstract\":\"Disclosed is an apparatus for measuring an electrocardiogram signal capable of increasing detection accuracy of a QRS area of an electrocardiogram signal. The apparatus for measuring an electrocardiogram signal according to an embodiment of the present invention comprises: an electrocardiogram signal detection module coupled to a first electrode to process an electrocardiogram signal detected from the first electrode; a power supply module coupled to a second electrode and supplying power to the electrocardiogram signal detection module; and an electrocardiogram signal transmission module coupled to a third electrode and transmitting the electrocardiogram signal generated in the electrocardiogram signal detection module to the outside. The electrocardiogram signal detection module filters an electrocardiogram signal detected from at least one of a first electrode, a second electrode, and a third electrode, differentiates the filtered signal, and separates the QRS wave from the detected electrocardiogram signal by performing a range-average on the absolute value of the differentiated signal within a predetermined time window.\"},\n",
    "                9:{\"abstract\":\"Wearable micro-fluidic chip has a wide range of applications potentiality in fields such as medical treatment, sport, military affairs, human body fluid is monitored in real time using wearable micro-fluidic chip, contact of the chip with skin can be passed through, easily the body fluid such as sweat, tear, saliva are acquired, and analyze and transmit data, the information of the content of sweat p H values and blood glucose, lactate, sodium ions to potassium ions, calcium ion, heavy metal etc. can be obtained in real time, these body fluid information have important indicative effect for the real-time monitoring and medical diagnosis on disease of individual life sign.\"},\n",
    "                10:{\"abstract\":\"A wound dressing device with reusable electronics for wireless monitoring and a method of making the same are provided. The device can be a smart device. In an embodiment, the device has a disposable portion including one or more sensors and a reusable portion including wireless electronics. The one or more sensors can be secured to a flexible substrate and can be printed by non-contact printing on the substrate. The disposable portion can be removably coupled to the one or more sensors. The device can include one or more sensors for wireless monitoring of a wound, a wound dressing, a body fluid exuded by the wound and/or wearer health.\"},\n",
    "                11:{\"abstract\":\"The invention details an innovative health tracking wearable, combining various sensors in a comfortable, adaptable form. Key features include a galvanic skin response detector, pulse monitoring, and thermometric sensors. Designed for constant wear, the device ensures user comfort and discreet monitoring. Data transmission to mobile or central systems allows for instantaneous health metrics analysis. Primarily, it tracks stress indicators, heart health, and temperature fluctuations, suitable for clinical and exercise applications. Predictive health insights generated by the device could preemptively alert users to emerging health issues, redefining personal health monitoring.\"},\n",
    "                12:{\"abstract\":\"To provide a method and apparatus for atrial fibrillation detection with a user-wearable device.SOLUTION: An apparatus includes a sensor module, a data processing module, a quality assessment module, and an event prediction module. The sensor module provides biosignal data samples and motion data samples. The data processing module processes the biosignal data samples to remove the baseline and processes the motion data samples to generate a motion significant measure. The quality assessment module generates a signal quality indicator based on the processed biosignal data sample segments and the corresponding motion significance measure using a first deep learning model. The event prediction module generates an event prediction result based on the processed biosignal data sample segments associated with a desired signal quality indicator using a second deep learning model.\"},\n",
    "                13:{\"abstract\":\"A apparatus for automatically detecting a pregnancy status of a patient include a patch for adhering to human skin, a uterine contraction sensor, such as electromyography (EMG), coupled to the patch with at least two electrodes, and an inertial sensor for sensing fetal movement, or Fetal Heart Rate (FHR) sensor, such as Fetal EKG or a Doppler Ultrasound. An electronic circuit is coupled to the patch, the EMG sensor and the inertial sensor, and/or FHR sensor. The circuit provides an output based on a uterine contraction signal from the EMG sensor (or Doppler ultrasound) correlated in time to a fetal movement, and/or fetal heart rate. The apparatus may include a thermometer to aid in automatically providing an indication of a pregnancy complication or ovulation status of the patient, based on the output.\"},\n",
    "                14:{\"abstract\":\"An electrochemical-sensing apparatus for analyzing a sample of a user. The apparatus has a housing with a port for receiving an electrochemical-sensor structure having a counter electrode (CE), a reference electrode (RE), and at least one working electrode (WE) for contacting the sample, and an analysis circuitry for coupling to the electrodes for analyzing biomarkers in the sample, and an output for outputting an analytical result. The analysis circuitry has a circuit for generating an excitation signal and applying it to CE and RE, at least one frequency analyzer for receiving a return signal from the at least one WE for analyzing the sample, and a set of switches for short-circuiting CE and RE and for engaging at least one calibration resistor to CE/RE and the at least one frequency analyzer for directing a calibration signal to the at least one frequency analyzer component for calibration.\"},\n",
    "                15:{\"abstract\":\"A pain measurement and diagnostic system (PMD) for bioanalytical analysis of pain matrix activity and the autonomic nervous system to diagnose and validate patient treatments, health status and outcomes to diagnose and validate patient treatments and outcomes. The PMD is implemented using medical devices for measuring and reporting objective measurements of pain through patient monitoring and analyzing related biological, psychological, social, environmental, and demographic factors that may contribute to and effect physiological outcomes for patients and through the analysis, improve diagnosis of pain, the evaluation of related disease states, and treatment options.\"},\n",
    "                 }\n",
    "\n",
    "user_abstract = \"This invention pertains to a novel wearable biosensor system for comprehensive health monitoring. The device, designed for continuous, non-invasive tracking, integrates multi-modal sensors including a skin conductivity sensor, a heart rate monitor, and a temperature sensor. These sensors are embedded in a lightweight, flexible material for comfort and ease of wear. The device communicates wirelessly with a user’s smartphone or a central monitoring system, providing real-time data analytics. The system is capable of monitoring key physiological parameters such as stress levels, cardiovascular health, and body temperature variations, making it suitable for use in both medical and fitness contexts. Additionally, the device employs advanced algorithms for predictive analytics, potentially identifying health issues before they become critical. This innovation aims to revolutionize personal health management by offering an accessible, efficient, and accurate health monitoring solution.\""
   ]
  },
  {
   "cell_type": "code",
   "execution_count": 14,
   "metadata": {},
   "outputs": [],
   "source": [
    "abstract_prompt = f\"\"\"\n",
    "The following texts are abstracts from patent specifications. Your task is to compare the \"Testing Abstract\" to all the others. \n",
    "It is important that you focus on comparing the concepts that the abstracts describe, not the way they are written. \n",
    "Rank the remaining abstracts on how well they match with the Testing Abstract by giving them a rating from 0 to 10 points. \n",
    "0 meaning they have absolutely nothing in common and 10 meaning they basically describe the exact same idea.\n",
    "Your output should be a python dictionary with the title \"comparison\", each element hast the Abstract number as key and the rating as value.\n",
    "I want to convert your output string to an actual dictionary, so make sure the formatting is right.\n",
    "\n",
    "Testing Abstract:\n",
    "{user_abstract}\n",
    "\n",
    "\"\"\"\n",
    "\n",
    "for patent_id, patent_info in patent_data.items():\n",
    "    # Check if there is an abstract for the patent\n",
    "    if patent_info['abstract']:\n",
    "        abstract_prompt = abstract_prompt + f'{patent_id}: \"{patent_info[\"abstract\"]}\"\\n'\n",
    "\n",
    "\n",
    "response = get_completion(abstract_prompt)\n",
    "comparison_dict = eval(response.replace(\"comparison = \",\"\"))"
   ]
  }
 ],
 "metadata": {
  "kernelspec": {
   "display_name": "Python 3",
   "language": "python",
   "name": "python3"
  },
  "language_info": {
   "codemirror_mode": {
    "name": "ipython",
    "version": 3
   },
   "file_extension": ".py",
   "mimetype": "text/x-python",
   "name": "python",
   "nbconvert_exporter": "python",
   "pygments_lexer": "ipython3",
   "version": "3.12.1"
  }
 },
 "nbformat": 4,
 "nbformat_minor": 2
}
