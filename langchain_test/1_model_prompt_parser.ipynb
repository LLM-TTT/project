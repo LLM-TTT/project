{
  "cells": [
    {
      "cell_type": "markdown",
      "metadata": {
        "id": "TB_1SEeP1WjF"
      },
      "source": [
        "# LangChain: Models, Prompts and Output Parsers\n",
        "\n",
        "In this tutorial, you'll learn how to call LLMs, providing prompts and parsing the response.\n",
        "\n",
        "\n",
        "# Setup\n",
        "\n",
        "## Python\n"
      ]
    },
    {
      "cell_type": "code",
      "execution_count": 2,
      "metadata": {
        "id": "6J4-Gma01WjI"
      },
      "outputs": [],
      "source": [
        "from langchain.output_parsers import StructuredOutputParser\n",
        "from langchain.output_parsers import ResponseSchema\n",
        "from langchain.prompts import ChatPromptTemplate\n",
        "from langchain.chat_models import ChatOpenAI\n",
        "import datetime\n",
        "import os\n",
        "import openai\n",
        "\n",
        "from dotenv import load_dotenv, find_dotenv\n",
        "_ = load_dotenv(find_dotenv())\n",
        "openai.api_key = os.environ['OPENAI_API_KEY']"
      ]
    },
    {
      "cell_type": "markdown",
      "metadata": {
        "id": "7ZA58eB31WjJ"
      },
      "source": [
        "# Chat API: OpenAI\n",
        "\n",
        "## Helper function: get_completion\n",
        "\n",
        "- Let's start with a direct API call to OpenAI.\n",
        "- We don't use LangChain\n",
        "\n"
      ]
    },
    {
      "cell_type": "code",
      "execution_count": 3,
      "metadata": {
        "id": "t_Cxtm181WjJ"
      },
      "outputs": [],
      "source": [
        "llm_model = \"gpt-3.5-turbo\"\n",
        "\n",
        "\n",
        "def get_completion(prompt, model=llm_model):\n",
        "    messages = [{\"role\": \"user\", \"content\": prompt}]\n",
        "    response = openai.ChatCompletion.create(\n",
        "        model=model,\n",
        "        messages=messages,\n",
        "        temperature=0,\n",
        "    )\n",
        "    return response.choices[0].message[\"content\"]\n"
      ]
    },
    {
      "cell_type": "markdown",
      "metadata": {
        "id": "MenaC2CA1WjK"
      },
      "source": [
        "## Example"
      ]
    },
    {
      "cell_type": "code",
      "execution_count": 4,
      "metadata": {
        "id": "Go4EeZ3Z1WjK"
      },
      "outputs": [
        {
          "data": {
            "text/plain": [
              "'1+1 equals 2.'"
            ]
          },
          "execution_count": 4,
          "metadata": {},
          "output_type": "execute_result"
        }
      ],
      "source": [
        "get_completion(\"What is 1+1?\")"
      ]
    },
    {
      "cell_type": "markdown",
      "metadata": {
        "id": "SHjnbbjJ1WjK"
      },
      "source": [
        "- '1+1 equals 2.'\n",
        "\n",
        "## Customer Email"
      ]
    },
    {
      "cell_type": "code",
      "execution_count": 5,
      "metadata": {
        "id": "X29uXrMj1WjL"
      },
      "outputs": [],
      "source": [
        "customer_email = \"\"\"\n",
        "Arrr, I be fuming that me blender lid \\\n",
        "flew off and splattered me kitchen walls \\\n",
        "with smoothie! And to make matters worse,\\\n",
        "the warranty don't cover the cost of \\\n",
        "cleaning up me kitchen. I need yer help \\\n",
        "right now, matey!\n",
        "\"\"\""
      ]
    },
    {
      "cell_type": "markdown",
      "metadata": {
        "id": "jZOP0hMC1WjL"
      },
      "source": [
        "## Prompt"
      ]
    },
    {
      "cell_type": "code",
      "execution_count": 6,
      "metadata": {
        "id": "4YOS7ubz1WjL"
      },
      "outputs": [],
      "source": [
        "style = \"\"\"American English \\\n",
        "in a calm and respectful tone\n",
        "\"\"\""
      ]
    },
    {
      "cell_type": "markdown",
      "metadata": {
        "id": "G0TYFvuL1WjM"
      },
      "source": []
    },
    {
      "cell_type": "code",
      "execution_count": 7,
      "metadata": {
        "id": "9G0E_qpY1WjM"
      },
      "outputs": [],
      "source": [
        "prompt = f\"\"\"Translate the text \\\n",
        "that is delimited by triple backticks\n",
        "into a style that is {style}.\n",
        "text: ```{customer_email}```\n",
        "\"\"\""
      ]
    },
    {
      "cell_type": "markdown",
      "metadata": {
        "id": "1U7K4sJ51WjM"
      },
      "source": [
        "## Result"
      ]
    },
    {
      "cell_type": "code",
      "execution_count": 8,
      "metadata": {
        "id": "zMelxwqk1WjM"
      },
      "outputs": [],
      "source": [
        "response = get_completion(prompt)"
      ]
    },
    {
      "cell_type": "markdown",
      "metadata": {
        "id": "aZlrKB8_1WjM"
      },
      "source": []
    },
    {
      "cell_type": "code",
      "execution_count": 9,
      "metadata": {
        "id": "CCB_neY11WjM"
      },
      "outputs": [
        {
          "data": {
            "text/plain": [
              "\"I'm really frustrated that my blender lid flew off and made a mess of my kitchen walls with smoothie! And to make things even worse, the warranty doesn't cover the cost of cleaning up my kitchen. I could really use your help at this moment, my friend!\""
            ]
          },
          "execution_count": 9,
          "metadata": {},
          "output_type": "execute_result"
        }
      ],
      "source": [
        "response"
      ]
    },
    {
      "cell_type": "markdown",
      "metadata": {
        "id": "s0hXn8K31WjN"
      },
      "source": [
        "-' I am quite frustrated that my blender lid flew off and made a mess of my kitchen walls with smoothie! To add to my frustration, the warranty does not cover the cost of cleaning up my kitchen. I kindly request your assistance at this moment, my friend.'\n",
        "\n",
        "\n",
        "# Chat API: LangChain\n",
        "\n",
        "Let's try how we can do the same using LangChain.\n",
        "\n",
        "## Model"
      ]
    },
    {
      "cell_type": "code",
      "execution_count": null,
      "metadata": {
        "id": "ILkXAnTw1WjN"
      },
      "outputs": [],
      "source": [
        "llm_model = \"gpt-3.5-turbo\"\n",
        "\n",
        "chat = ChatOpenAI(temperature=0.0, model=llm_model)"
      ]
    },
    {
      "cell_type": "markdown",
      "metadata": {
        "id": "9Iv5y2821WjN"
      },
      "source": []
    },
    {
      "cell_type": "code",
      "execution_count": null,
      "metadata": {
        "id": "eSVGX3QN1WjN"
      },
      "outputs": [],
      "source": [
        "chat"
      ]
    },
    {
      "cell_type": "markdown",
      "metadata": {
        "id": "LYaZW93S1WjN"
      },
      "source": [
        "- ChatOpenAI(cache=None, verbose=False, callbacks=None, callback_manager=None, tags=None, metadata=None, client=<class 'openai.api_resources.chat_completion.ChatCompletion'>, model_name='gpt-3.5-turbo', temperature=0.0, model_kwargs={}, openai_api_key='xxx', openai_api_base='', openai_organization='xxx', openai_proxy='', request_timeout=None, max_retries=6, streaming=False, n=1, max_tokens=None, tiktoken_model_name=None)\n",
        "\n",
        "## Define prompt template"
      ]
    },
    {
      "cell_type": "code",
      "execution_count": null,
      "metadata": {
        "id": "FJCNb1eA1WjN"
      },
      "outputs": [],
      "source": [
        "template_string = \"\"\"Translate the text \\\n",
        "that is delimited by triple backticks \\\n",
        "into a style that is {style}. \\\n",
        "text: ```{text}```\n",
        "\"\"\""
      ]
    },
    {
      "cell_type": "markdown",
      "metadata": {
        "id": "D29MbdlZ1WjN"
      },
      "source": []
    },
    {
      "cell_type": "code",
      "execution_count": null,
      "metadata": {
        "id": "CfdHxuot1WjN"
      },
      "outputs": [],
      "source": [
        "prompt_template = ChatPromptTemplate.from_template(template_string)"
      ]
    },
    {
      "cell_type": "markdown",
      "metadata": {
        "id": "DsgOjjBK1WjN"
      },
      "source": [
        "## Inspect prompt template"
      ]
    },
    {
      "cell_type": "code",
      "execution_count": null,
      "metadata": {
        "id": "zvMrxPKV1WjO"
      },
      "outputs": [],
      "source": [
        "prompt_template.messages[0].prompt"
      ]
    },
    {
      "cell_type": "markdown",
      "metadata": {
        "id": "wFEI9fRL1WjO"
      },
      "source": [
        "- PromptTemplate(input_variables=['style', 'text'], output_parser=None, partial_variables={}, template='Translate the text that is delimited by triple backticks into a style that is {style}. text: ```{text}```\\n', template_format='f-string', validate_template=True)\n",
        "\n"
      ]
    },
    {
      "cell_type": "code",
      "execution_count": null,
      "metadata": {
        "id": "PgIt03Py1WjO"
      },
      "outputs": [],
      "source": [
        "prompt_template.messages[0].prompt.input_variables"
      ]
    },
    {
      "cell_type": "markdown",
      "metadata": {
        "id": "Gk9PAbMW1WjO"
      },
      "source": [
        "- ['style', 'text']\n",
        "\n",
        "## Customer template input\n",
        "\n",
        "- Text:\n",
        "\n"
      ]
    },
    {
      "cell_type": "code",
      "execution_count": null,
      "metadata": {
        "id": "b6F07HFJ1WjO"
      },
      "outputs": [],
      "source": [
        "customer_email = \"\"\"\n",
        "Arrr, I be fuming that me blender lid \\\n",
        "flew off and splattered me kitchen walls \\\n",
        "with smoothie! And to make matters worse, \\\n",
        "the warranty don't cover the cost of \\\n",
        "cleaning up me kitchen. I need yer help \\\n",
        "right now, matey!\n",
        "\"\"\""
      ]
    },
    {
      "cell_type": "markdown",
      "metadata": {
        "id": "CcjgeHcI1WjO"
      },
      "source": [
        "- Style:\n",
        "\n"
      ]
    },
    {
      "cell_type": "code",
      "execution_count": null,
      "metadata": {
        "id": "h1ggAVtp1WjO"
      },
      "outputs": [],
      "source": [
        "customer_style = \"\"\"American English \\\n",
        "in a calm and respectful tone\n",
        "\"\"\""
      ]
    },
    {
      "cell_type": "markdown",
      "metadata": {
        "id": "e-wD40ja1WjO"
      },
      "source": [
        "## Create template\n"
      ]
    },
    {
      "cell_type": "code",
      "execution_count": null,
      "metadata": {
        "id": "w_72sZk81WjO"
      },
      "outputs": [],
      "source": [
        "customer_messages = prompt_template.format_messages(\n",
        "    style=customer_style,\n",
        "    text=customer_email)"
      ]
    },
    {
      "cell_type": "markdown",
      "metadata": {
        "id": "jIe61pob1WjP"
      },
      "source": []
    },
    {
      "cell_type": "code",
      "execution_count": null,
      "metadata": {
        "id": "kvgeKRIg1WjP"
      },
      "outputs": [],
      "source": [
        "print(type(customer_messages))\n",
        "print(type(customer_messages[0]))"
      ]
    },
    {
      "cell_type": "markdown",
      "metadata": {
        "id": "46mS8rsU1WjP"
      },
      "source": [
        "- <class 'list'>\n",
        "- <class 'langchain.schema.messages.HumanMessage'>\n",
        "\n",
        "\n",
        "## Customer messages prompt"
      ]
    },
    {
      "cell_type": "code",
      "execution_count": null,
      "metadata": {
        "id": "42E-KEvl1WjQ"
      },
      "outputs": [],
      "source": [
        "print(customer_messages[0])"
      ]
    },
    {
      "cell_type": "markdown",
      "metadata": {
        "id": "GEtBZDT_1WjQ"
      },
      "source": [
        "- content=\"Translate the text that is delimited by triple backticks into a style that is American English in a calm and respectful tone\\n. text: ```\\nArrr, I be fuming that me blender lid flew off and splattered me kitchen walls with smoothie! And to make matters worse, the warranty don't cover the cost of cleaning up me kitchen. I need yer help right now, matey!\\n```\\n\" additional_kwargs={} example=False\n",
        "\n",
        "\n",
        "## Customer messages response"
      ]
    },
    {
      "cell_type": "code",
      "execution_count": null,
      "metadata": {
        "id": "dDGLXubt1WjU"
      },
      "outputs": [],
      "source": [
        "# Call the LLM to translate to the style of the customer message\n",
        "customer_response = chat(customer_messages)"
      ]
    },
    {
      "cell_type": "markdown",
      "metadata": {
        "id": "bZ35IuGQ1WjU"
      },
      "source": []
    },
    {
      "cell_type": "code",
      "execution_count": null,
      "metadata": {
        "id": "8qjycjqR1WjU"
      },
      "outputs": [],
      "source": [
        "print(customer_response.content)"
      ]
    },
    {
      "cell_type": "markdown",
      "metadata": {
        "id": "g0yx0iz-1WjV"
      },
      "source": [
        "- I'm really frustrated that my blender lid flew off and made a mess of my kitchen walls with smoothie! And to make things even worse, the warranty doesn't cover the cost of cleaning up my kitchen. I could really use your help right now, my friend!\n",
        "\n",
        "## Service reply input"
      ]
    },
    {
      "cell_type": "code",
      "execution_count": null,
      "metadata": {
        "id": "I2_5fSzP1WjV"
      },
      "outputs": [],
      "source": [
        "service_reply = \"\"\"Hey there customer, \\\n",
        "the warranty does not cover \\\n",
        "cleaning expenses for your kitchen \\\n",
        "because it's your fault that \\\n",
        "you misused your blender \\\n",
        "by forgetting to put the lid on before \\\n",
        "starting the blender. \\\n",
        "Tough luck! See ya!\n",
        "\"\"\""
      ]
    },
    {
      "cell_type": "markdown",
      "metadata": {
        "id": "0eFrYCAd1WjV"
      },
      "source": []
    },
    {
      "cell_type": "code",
      "execution_count": null,
      "metadata": {
        "id": "jgDZIDvl1WjV"
      },
      "outputs": [],
      "source": [
        "service_style_pirate = \"\"\"\\\n",
        "a polite tone \\\n",
        "that speaks in English Pirate\\\n",
        "\"\"\""
      ]
    },
    {
      "cell_type": "markdown",
      "metadata": {
        "id": "paQrAnOE1WjV"
      },
      "source": [
        "## Service reply prompt template {.smaller}"
      ]
    },
    {
      "cell_type": "code",
      "execution_count": null,
      "metadata": {
        "id": "ODeZUgqG1WjV"
      },
      "outputs": [],
      "source": [
        "service_messages = prompt_template.format_messages(\n",
        "    style=service_style_pirate,\n",
        "    text=service_reply)\n",
        "\n",
        "print(service_messages[0].content)"
      ]
    },
    {
      "cell_type": "markdown",
      "metadata": {
        "id": "ueHNeVrV1WjV"
      },
      "source": [
        "- Translate the text that is delimited by triple backticks into a style that is a polite tone that speaks in English Pirate. text: \\```Hey there customer, the warranty does not cover cleaning expenses for your kitchen because it's your fault that you misused your blender by forgetting to put the lid on before starting the blender. Tough luck! See ya!\n",
        "\\```\n",
        "\n",
        "## Service reply response"
      ]
    },
    {
      "cell_type": "code",
      "execution_count": null,
      "metadata": {
        "id": "RSNBUsQ51WjV"
      },
      "outputs": [],
      "source": [
        "service_response = chat(service_messages)\n",
        "print(service_response.content)"
      ]
    },
    {
      "cell_type": "markdown",
      "metadata": {
        "id": "cE5P0lG71WjW"
      },
      "source": [
        "- Ahoy there, matey! I regret to inform ye that the warranty be not coverin' the costs o' cleanin' yer galley, as 'tis yer own fault fer misusin' yer blender by forgettin' to secure the lid afore startin' it. Aye, tough luck, me heartie! Fare thee well!\n",
        "\n",
        "\n",
        "# Output Parsers\n",
        "\n",
        "## Output style\n",
        "\n",
        "- Let's start with defining how we would like the LLM output to look like:\n",
        "\n"
      ]
    },
    {
      "cell_type": "code",
      "execution_count": null,
      "metadata": {
        "id": "aNMyDYt01WjW"
      },
      "outputs": [],
      "source": [
        "{\n",
        "    \"gift\": False,\n",
        "    \"delivery_days\": 5,\n",
        "    \"price_value\": \"pretty affordable!\"\n",
        "}"
      ]
    },
    {
      "cell_type": "markdown",
      "metadata": {
        "id": "YwcTqqsh1WjW"
      },
      "source": [
        "## Customer review and template {.smaller}"
      ]
    },
    {
      "cell_type": "code",
      "execution_count": null,
      "metadata": {
        "id": "tHnc3r_31WjW"
      },
      "outputs": [],
      "source": [
        "customer_review = \"\"\"\\\n",
        "This leaf blower is pretty amazing.  It has four settings:\\\n",
        "candle blower, gentle breeze, windy city, and tornado. \\\n",
        "It arrived in two days, just in time for my wife's \\\n",
        "anniversary present. \\\n",
        "I think my wife liked it so much she was speechless. \\\n",
        "So far I've been the only one using it, and I've been \\\n",
        "using it every other morning to clear the leaves on our lawn. \\\n",
        "It's slightly more expensive than the other leaf blowers \\\n",
        "out there, but I think it's worth it for the extra features.\n",
        "\"\"\"\n",
        "\n",
        "review_template = \"\"\"\\\n",
        "For the following text, extract the following information:\n",
        "\n",
        "gift: Was the item purchased as a gift for someone else? \\\n",
        "Answer True if yes, False if not or unknown.\n",
        "\n",
        "delivery_days: How many days did it take for the product \\\n",
        "to arrive? If this information is not found, output -1.\n",
        "\n",
        "price_value: Extract any sentences about the value or price,\\\n",
        "and output them as a comma separated Python list.\n",
        "\n",
        "Format the output as JSON with the following keys:\n",
        "gift\n",
        "delivery_days\n",
        "price_value\n",
        "\n",
        "text: {text}\n",
        "\"\"\""
      ]
    },
    {
      "cell_type": "markdown",
      "metadata": {
        "id": "vZcH0My_1WjW"
      },
      "source": [
        "## Prompt template"
      ]
    },
    {
      "cell_type": "code",
      "execution_count": null,
      "metadata": {
        "id": "TfqRYZ8P1WjW"
      },
      "outputs": [],
      "source": [
        "prompt_template = ChatPromptTemplate.from_template(review_template)\n",
        "print(prompt_template)"
      ]
    },
    {
      "cell_type": "markdown",
      "metadata": {
        "id": "rXmjk9Qu1WjX"
      },
      "source": [
        "- input_variables=['text'] output_parser=None partial_variables={} messages=[HumanMessagePromptTemplate(prompt=PromptTemplate(input_variables=['text'], output_parser=None, partial_variables={}, template='For the following text, extract the following information:\\ngift: Was the item purchased as a gift for someone else? Answer True if yes, False if not or unknown.\\ndelivery_days: How many days did it take for the product to arrive? If this information is not found, output -1.\\nprice_value: Extract any sentences about the value or price,and output them as a comma separated Python list.\\nFormat the output as JSON with the following keys:\\ngift\\ndelivery_days\\nprice_value\\ntext: {text}\\n', template_format='f-string', validate_template=True), additional_kwargs={})]\n",
        "\n",
        "\n",
        "## Response {.smaller}"
      ]
    },
    {
      "cell_type": "code",
      "execution_count": null,
      "metadata": {
        "id": "tMlIZSFl1WjX"
      },
      "outputs": [],
      "source": [
        "messages = prompt_template.format_messages(text=customer_review)\n",
        "chat = ChatOpenAI(temperature=0.0, model=llm_model)"
      ]
    },
    {
      "cell_type": "markdown",
      "metadata": {
        "id": "gjLOhLxJ1WjX"
      },
      "source": []
    },
    {
      "cell_type": "code",
      "execution_count": null,
      "metadata": {
        "id": "s5eEpNsu1WjX"
      },
      "outputs": [],
      "source": [
        "response = chat(messages)\n",
        "print(response.content)"
      ]
    },
    {
      "cell_type": "markdown",
      "metadata": {
        "id": "vI8ocwV91WjX"
      },
      "source": [
        "```markdown\n",
        "\n",
        "{\n",
        "  \"gift\": false,\n",
        "  \"delivery_days\": 2,\n",
        "  \"price_value\": [\"It's slightly more expensive than the other leaf blowers out there, but I think it's worth it for the extra features.\"],\n",
        "  \"text\": \"This leaf blower is pretty amazing. It has four settings:candle blower, gentle breeze, windy city, and tornado. It arrived in two days, just in time for my wife's anniversary present. I think my wife liked it so much she was speechless. So far I've been the only one using it, and I've been using it every other morning to clear the leaves on our lawn. It's slightly more expensive than the other leaf blowers out there, but I think it's worth it for the extra features.\"\n",
        "}\n",
        "```\n",
        "\n",
        "## Inspect response\n"
      ]
    },
    {
      "cell_type": "code",
      "execution_count": null,
      "metadata": {
        "id": "1gQcQ_Tw1WjX"
      },
      "outputs": [],
      "source": [
        "type(response.content)"
      ]
    },
    {
      "cell_type": "markdown",
      "metadata": {
        "id": "q8CNtWD21WjX"
      },
      "source": [
        "- str\n",
        "\n"
      ]
    },
    {
      "cell_type": "code",
      "execution_count": null,
      "metadata": {
        "id": "NH9o8j7_1WjY"
      },
      "outputs": [],
      "source": [
        "# You will get an error by running this line of code\n",
        "# because'gift' is not a dictionary\n",
        "# 'gift' is a string\n",
        "response.content.get('gift')"
      ]
    },
    {
      "cell_type": "markdown",
      "metadata": {
        "id": "uHxWjZTK1WjY"
      },
      "source": []
    },
    {
      "cell_type": "code",
      "execution_count": null,
      "metadata": {
        "id": "W-wxpFN81WjY"
      },
      "outputs": [],
      "source": [
        "---------------------------------------------------------------------------\n",
        "AttributeError                            Traceback (most recent call last)\n",
        "/Users/jankirenz/labs/lab-langchain-basics/slides/1_model_prompt_parser.qmd in line 1\n",
        "----> 342 response.content.get('gift')\n",
        "\n",
        "AttributeError: 'str' object has no attribute 'get'"
      ]
    },
    {
      "cell_type": "markdown",
      "metadata": {
        "id": "y1ATricy1WjY"
      },
      "source": [
        "# Parse Output into Dictionary\n",
        "\n",
        "## Parse output into dictionary {.smaller}\n",
        "\n",
        "- Parse the LLM output string into a Python dictionary\n",
        "\n"
      ]
    },
    {
      "cell_type": "code",
      "execution_count": null,
      "metadata": {
        "id": "ypAEiS-M1WjY"
      },
      "outputs": [],
      "source": [
        "gift_schema = ResponseSchema(name=\"gift\",\n",
        "                             description=\"Was the item purchased\\\n",
        "                             as a gift for someone else? \\\n",
        "                             Answer True if yes,\\\n",
        "                             False if not or unknown.\")\n",
        "\n",
        "delivery_days_schema = ResponseSchema(name=\"delivery_days\",\n",
        "                                      description=\"How many days\\\n",
        "                                      did it take for the product\\\n",
        "                                      to arrive? If this \\\n",
        "                                      information is not found,\\\n",
        "                                      output -1.\")\n",
        "\n",
        "price_value_schema = ResponseSchema(name=\"price_value\",\n",
        "                                    description=\"Extract any\\\n",
        "                                    sentences about the value or \\\n",
        "                                    price, and output them as a \\\n",
        "                                    comma separated Python list.\")\n",
        "\n",
        "response_schemas = [gift_schema,\n",
        "                    delivery_days_schema,\n",
        "                    price_value_schema]"
      ]
    },
    {
      "cell_type": "markdown",
      "metadata": {
        "id": "aG9FiXy91WjY"
      },
      "source": [
        "## StructuredOutputParser {.smaller}"
      ]
    },
    {
      "cell_type": "code",
      "execution_count": null,
      "metadata": {
        "id": "3Q3TRc7O1WjY"
      },
      "outputs": [],
      "source": [
        "output_parser = StructuredOutputParser.from_response_schemas(response_schemas)"
      ]
    },
    {
      "cell_type": "markdown",
      "metadata": {
        "id": "u3yQupNg1WjY"
      },
      "source": []
    },
    {
      "cell_type": "code",
      "execution_count": null,
      "metadata": {
        "id": "nI6YpvR_1WjY"
      },
      "outputs": [],
      "source": [
        "format_instructions = output_parser.get_format_instructions()"
      ]
    },
    {
      "cell_type": "code",
      "execution_count": null,
      "metadata": {
        "id": "LknHFVY91WjZ"
      },
      "outputs": [],
      "source": [
        "print(format_instructions)"
      ]
    },
    {
      "cell_type": "markdown",
      "metadata": {
        "id": "AMP9mVbG1WjZ"
      },
      "source": [
        "- The output should be a markdown code snippet formatted in the following schema, including the leading and trailing \"```json\" and \"```\":\n",
        "\n",
        "```json\n",
        "{\n",
        "\t\"gift\": string  // Was the item purchased                             as a gift for someone else?                              Answer True if yes,                             False if not or unknown.\n",
        "\t\"delivery_days\": string  // How many days                                      did it take for the product                                      to arrive? If this                                       information is not found,                                      output -1.\n",
        "\t\"price_value\": string  // Extract any                                    sentences about the value or                                     price, and output them as a                                     comma separated Python list.\n",
        "}\n",
        "```\n",
        "\n",
        "\n",
        "\n",
        "## Review template 2 {.smaller}\n"
      ]
    },
    {
      "cell_type": "code",
      "execution_count": null,
      "metadata": {
        "id": "F8eX9VrX1WjZ"
      },
      "outputs": [],
      "source": [
        "review_template_2 = \"\"\"\\\n",
        "For the following text, extract the following information:\n",
        "\n",
        "gift: Was the item purchased as a gift for someone else? \\\n",
        "Answer True if yes, False if not or unknown.\n",
        "\n",
        "delivery_days: How many days did it take for the product\\\n",
        "to arrive? If this information is not found, output -1.\n",
        "\n",
        "price_value: Extract any sentences about the value or price,\\\n",
        "and output them as a comma separated Python list.\n",
        "\n",
        "text: {text}\n",
        "\n",
        "{format_instructions}\n",
        "\"\"\"\n",
        "\n",
        "prompt = ChatPromptTemplate.from_template(template=review_template_2)\n",
        "\n",
        "messages = prompt.format_messages(text=customer_review,\n",
        "                                  format_instructions=format_instructions)"
      ]
    },
    {
      "cell_type": "markdown",
      "metadata": {
        "id": "1HHlpGvM1WjZ"
      },
      "source": [
        "## Inspect template"
      ]
    },
    {
      "cell_type": "code",
      "execution_count": null,
      "metadata": {
        "id": "ve_CquJ61WjZ"
      },
      "outputs": [],
      "source": [
        "print(messages[0].content)"
      ]
    },
    {
      "cell_type": "markdown",
      "metadata": {
        "id": "JJHErv3V1WjZ"
      },
      "source": [
        "- For the following text, extract the following information:\n",
        "gift: Was the item purchased as a gift for someone else? Answer True if yes, False if not or unknown.\n",
        "delivery_days: How many days did it take for the productto arrive? If this information is not found, output -1.\n",
        "price_value: Extract any sentences about the value or price,and output them as a comma separated Python list.\n",
        "text: This leaf blower is pretty amazing.  It has four settings:candle blower, gentle breeze, windy city, and tornado. It arrived in two days, just in time for my wife's anniversary present. I think my wife liked it so much she was speechless. So far I've been the only one using it, and I've been using it every other morning to clear the leaves on our lawn. It's slightly more expensive than the other leaf blowers out there, but I think it's worth it for the extra features.\n",
        "\n",
        "The output should be a markdown code snippet formatted in the following schema, including the leading and trailing \"```json\" and \"```\":\n",
        "\n",
        "```json\n",
        "{\n",
        "\t\"gift\": string  // Was the item purchased                             as a gift for someone else?                              Answer True if yes,                             False if not or unknown.\n",
        "\t\"delivery_days\": string  // How many days                                      did it take for the product                                      to arrive? If this                                       information is not found,                                      output -1.\n",
        "\t\"price_value\": string  // Extract any                                    sentences about the value or                                     price, and output them as a                                     comma separated Python list.\n",
        "}\n",
        "```\n",
        "\n",
        "\n",
        "## Response"
      ]
    },
    {
      "cell_type": "code",
      "execution_count": null,
      "metadata": {
        "id": "DgKfj7kM1WjZ"
      },
      "outputs": [],
      "source": [
        "response = chat(messages)"
      ]
    },
    {
      "cell_type": "markdown",
      "metadata": {
        "id": "gBE-G95R1WjZ"
      },
      "source": []
    },
    {
      "cell_type": "code",
      "execution_count": null,
      "metadata": {
        "id": "n8sMhWTz1WjZ"
      },
      "outputs": [],
      "source": [
        "print(response.content)"
      ]
    },
    {
      "cell_type": "markdown",
      "metadata": {
        "id": "dKL08_Wf1WjZ"
      },
      "source": [
        "\n",
        "\n",
        "```json\n",
        "{\n",
        "\t\"gift\": false,\n",
        "\t\"delivery_days\": \"2\",\n",
        "\t\"price_value\": \"It's slightly more expensive than the other leaf blowers out there, but I think it's worth it for the extra features.\"\n",
        "}\n",
        "```\n",
        "\n",
        "## Parse output {.smaller}"
      ]
    },
    {
      "cell_type": "code",
      "execution_count": null,
      "metadata": {
        "id": "KmxpsmS01Wja"
      },
      "outputs": [],
      "source": [
        "output_dict = output_parser.parse(response.content)"
      ]
    },
    {
      "cell_type": "markdown",
      "metadata": {
        "id": "O9l304C11Wja"
      },
      "source": []
    },
    {
      "cell_type": "code",
      "execution_count": null,
      "metadata": {
        "id": "b2m5MEpj1Wja"
      },
      "outputs": [],
      "source": [
        "output_dict"
      ]
    },
    {
      "cell_type": "markdown",
      "metadata": {
        "id": "-JeFuGGS1Wja"
      },
      "source": [
        "\n",
        "\n",
        "```json\n",
        "{'gift': False,\n",
        " 'delivery_days': '2',\n",
        " 'price_value': \"It's slightly more expensive than the other leaf blowers out there, but I think it's worth it for the extra features.\"}\n",
        "```\n"
      ]
    },
    {
      "cell_type": "code",
      "execution_count": null,
      "metadata": {
        "id": "nuo9dC5t1Wja"
      },
      "outputs": [],
      "source": [
        "type(output_dict)"
      ]
    },
    {
      "cell_type": "markdown",
      "metadata": {
        "id": "PTCKa34H1Wja"
      },
      "source": [
        "- dict"
      ]
    },
    {
      "cell_type": "code",
      "execution_count": null,
      "metadata": {
        "id": "C-9RBRma1Wja"
      },
      "outputs": [],
      "source": [
        "output_dict.get('delivery_days')"
      ]
    }
  ],
  "metadata": {
    "colab": {
      "provenance": []
    },
    "kernelspec": {
      "display_name": "Python 3 (ipykernel)",
      "language": "python",
      "name": "python3"
    },
    "language_info": {
      "codemirror_mode": {
        "name": "ipython",
        "version": 3
      },
      "file_extension": ".py",
      "mimetype": "text/x-python",
      "name": "python",
      "nbconvert_exporter": "python",
      "pygments_lexer": "ipython3",
      "version": "3.11.6"
    }
  },
  "nbformat": 4,
  "nbformat_minor": 0
}
