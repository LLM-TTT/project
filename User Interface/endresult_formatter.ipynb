{
 "cells": [
  {
   "cell_type": "code",
   "execution_count": 1,
   "metadata": {},
   "outputs": [],
   "source": [
    "patent_data = {\n",
    "    \"LD620FU7\":{\n",
    "        \"pdf\": \"link.pdf\",\n",
    "        \"title\": \"Richtiger Titel\",\n",
    "        \"abstract\": \"Lorem marmelade\",\n",
    "        \"description\": \"amet\",\n",
    "        \"claim\": \"est\",\n",
    "    },\n",
    "    \"TE95BBR7\":{\n",
    "        \"pdf\": \"link.pdf\",\n",
    "        \"title\": \"Test Title\",\n",
    "        \"abstract\": \"Lorem ipsum\",\n",
    "        \"description\": \"dolor sit\",\n",
    "        \"claim\": \"Consecetur\",\n",
    "    },\n",
    "    \"NAZE296N\":{\n",
    "        \"pdf\": \"link.pdf\",\n",
    "        \"title\": \"Frühstücks Überschrift\",\n",
    "        \"abstract\": \"Banase Kaffee kakao Nutella Toastbrot\",\n",
    "        \"description\": \"Frühstücksei\",\n",
    "        \"claim\": \"Orangensaft\",\n",
    "    }\n",
    "}\n",
    "\n",
    "final_scoring={\n",
    "    \"LD620FU7\": 8,\n",
    "    \"TE95BBR7\": 9,\n",
    "    \"NAZE296N\": 7,\n",
    "}"
   ]
  },
  {
   "cell_type": "code",
   "execution_count": 7,
   "metadata": {},
   "outputs": [
    {
     "name": "stdout",
     "output_type": "stream",
     "text": [
      "Ergebnis:\n",
      "\n",
      "#1: Richtiger Titel\n",
      "link.pdf\n",
      "\n",
      "#2: Test Title\n",
      "link.pdf\n",
      "\n",
      "#3: Frühstücks Überschrift\n",
      "link.pdf\n",
      "\n",
      "\n"
     ]
    }
   ],
   "source": [
    "final_scoring_patent_ids = list(final_scoring.keys())\n",
    "\n",
    "final_scoring_formatted = \"Ergebnis:\\n\\n\"\n",
    "\n",
    "counter=1\n",
    "\n",
    "for patent_id in final_scoring_patent_ids:\n",
    "            \n",
    "    final_scoring_formatted += \"#\" + str(counter) + \": \" + patent_data[patent_id][\"title\"] + \"\\n\" + \"https://patentimages.storage.googleapis.com/\" + patent_data[patent_id][\"pdf\"] + \"\\n\\n\"\n",
    "    counter+=1\n",
    "\n",
    "print(final_scoring_formatted)"
   ]
  }
 ],
 "metadata": {
  "kernelspec": {
   "display_name": "lab",
   "language": "python",
   "name": "python3"
  },
  "language_info": {
   "codemirror_mode": {
    "name": "ipython",
    "version": 3
   },
   "file_extension": ".py",
   "mimetype": "text/x-python",
   "name": "python",
   "nbconvert_exporter": "python",
   "pygments_lexer": "ipython3",
   "version": "3.11.6"
  }
 },
 "nbformat": 4,
 "nbformat_minor": 2
}
