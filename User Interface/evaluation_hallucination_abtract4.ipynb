{
 "cells": [
  {
   "cell_type": "code",
   "execution_count": null,
   "metadata": {},
   "outputs": [],
   "source": [
    "import os"
   ]
  },
  {
   "cell_type": "code",
   "execution_count": null,
   "metadata": {},
   "outputs": [],
   "source": [
    "patent_abstract = \"\"\"\n",
    "Biometric Vehicle Access System\n",
    "Abstract:\n",
    "The Biometric Vehicle Access System (BVAS) is an innovative technology designed to revolutionize traditional vehicle security and access methods.\n",
    "This system employs advanced biometric authentication, including fingerprint and facial recognition, to ensure secure and convenient entry and ignition processes.\n",
    "BVAS enhances vehicle security by replacing traditional key-based and electronic fob systems with a seamless and personalized biometric verification process. The technology integrates biometric sensors into door handles, steering wheels, and ignition systems, allowing for quick and reliable user authentication. The BVAS not only provides an additional layer of security against unauthorized access but also enhances user convenience by eliminating the need for physical keys or key fobs. Users can effortlessly unlock, start, and operate their vehicles through a simple and rapid biometric scan. The system is designed with robust anti-spoofing measures to prevent unauthorized access attempts.\n",
    "Furthermore, BVAS contributes to the growing trend of biometric integration in smart vehicles, aligning with the industry's commitment to innovation, user experience, and safety. As vehicles continue to evolve into interconnected and autonomous entities, BVAS sets a new standard for personalized and secure access, catering to the increasing demand for sophisticated yet user-friendly solutions in the automotive sector.\n",
    "\"\"\"\n"
   ]
  },
  {
   "cell_type": "code",
   "execution_count": null,
   "metadata": {},
   "outputs": [],
   "source": [
    "from openai import OpenAI\n",
    "oai_client = OpenAI()\n",
    "\n",
    "oai_client.embeddings.create(\n",
    "        model=\"text-embedding-ada-002\",\n",
    "        input=patent_abstract\n",
    "    )\n"
   ]
  },
  {
   "cell_type": "code",
   "execution_count": null,
   "metadata": {},
   "outputs": [],
   "source": [
    "import chromadb\n",
    "from chromadb.utils.embedding_functions import OpenAIEmbeddingFunction\n",
    "\n",
    "embedding_function = OpenAIEmbeddingFunction(api_key=os.environ.get('OPENAI_API_KEY'),\n",
    "                                             model_name=\"text-embedding-ada-002\")\n",
    "\n",
    "\n",
    "chroma_client = chromadb.Client()\n",
    "vector_store = chroma_client.get_or_create_collection(name=\"Patents\",\n",
    "                                                      embedding_function=embedding_function)"
   ]
  },
  {
   "cell_type": "code",
   "execution_count": null,
   "metadata": {},
   "outputs": [],
   "source": [
    "vector_store.add(\"patent_info\", documents=patent_abstract)"
   ]
  },
  {
   "cell_type": "code",
   "execution_count": null,
   "metadata": {},
   "outputs": [],
   "source": [
    "from trulens_eval import Tru\n",
    "from trulens_eval.tru_custom_app import instrument\n",
    "tru = Tru()\n",
    "#tru.reset_database() #Reset the database. Clears all tables.\n"
   ]
  },
  {
   "cell_type": "code",
   "execution_count": null,
   "metadata": {},
   "outputs": [],
   "source": [
    "class RAG_from_scratch:\n",
    "    @instrument\n",
    "    def retrieve(self, query: str) -> list:\n",
    "        \"\"\"\n",
    "        Retrieve relevant text from vector store.\n",
    "        \"\"\"\n",
    "        results = vector_store.query(\n",
    "        query_texts=query,\n",
    "        n_results=2\n",
    "    )\n",
    "        return results['documents'][0]\n",
    "\n",
    "    @instrument\n",
    "    def generate_completion(self, query: str, context_str: list) -> str:\n",
    "        \"\"\"\n",
    "        Generate answer from context.\n",
    "        \"\"\"\n",
    "        completion = oai_client.chat.completions.create(\n",
    "        model=\"gpt-4\",\n",
    "        temperature=0,\n",
    "        messages=\n",
    "        [\n",
    "            {\"role\": \"user\",\n",
    "            \"content\": \n",
    "            f\"The following abstract descripes a concept for a novel invention: \\n\"\n",
    "            f\"---------------------\\n\"\n",
    "            f\"{context_str}\"\n",
    "            f\"\\n---------------------\\n\"\n",
    "            f\"Given this information, please execute the following instructions: {query}\"\n",
    "            }\n",
    "        ]\n",
    "        ).choices[0].message.content\n",
    "        return completion\n",
    "\n",
    "    @instrument\n",
    "    def query(self, query: str) -> str:\n",
    "        context_str = self.retrieve(query)\n",
    "        completion = self.generate_completion(query, context_str)\n",
    "        return completion\n",
    "\n",
    "rag = RAG_from_scratch()"
   ]
  },
  {
   "cell_type": "code",
   "execution_count": null,
   "metadata": {},
   "outputs": [],
   "source": [
    "from trulens_eval import Feedback, Select\n",
    "from trulens_eval.feedback import Groundedness\n",
    "from trulens_eval.feedback.provider.openai import OpenAI as fOpenAI\n",
    "\n",
    "import numpy as np\n",
    "\n",
    "# Initialize provider class\n",
    "fopenai = fOpenAI()\n",
    "\n",
    "grounded = Groundedness(groundedness_provider=fopenai)\n",
    "\n",
    "# Define a groundedness feedback function\n",
    "f_groundedness = (\n",
    "    Feedback(grounded.groundedness_measure_with_cot_reasons, name = \"Groundedness\")\n",
    "    .on(Select.RecordCalls.retrieve.rets.collect())\n",
    "    .on_output()\n",
    "    .aggregate(grounded.grounded_statements_aggregator)\n",
    ")\n",
    "\n",
    "# Question/answer relevance between overall question and answer.\n",
    "f_qa_relevance = (\n",
    "    Feedback(fopenai.relevance_with_cot_reasons, name = \"Answer Relevance\")\n",
    "    .on(Select.RecordCalls.retrieve.args.query)\n",
    "    .on_output()\n",
    ")\n",
    "\n",
    "# Question/statement relevance between question and each context chunk.\n",
    "f_context_relevance = (\n",
    "    Feedback(fopenai.qs_relevance_with_cot_reasons, name = \"Context Relevance\")\n",
    "    .on(Select.RecordCalls.retrieve.args.query)\n",
    "    .on(Select.RecordCalls.retrieve.rets.collect())\n",
    "    .aggregate(np.mean)\n",
    ")"
   ]
  },
  {
   "cell_type": "code",
   "execution_count": null,
   "metadata": {},
   "outputs": [],
   "source": [
    "from trulens_eval import TruCustomApp\n",
    "tru_rag = TruCustomApp(rag,\n",
    "    app_id = 'RAG Key Words',\n",
    "    feedbacks = [f_groundedness, f_qa_relevance, f_context_relevance])"
   ]
  },
  {
   "cell_type": "code",
   "execution_count": null,
   "metadata": {},
   "outputs": [],
   "source": [
    "with tru_rag as recording:\n",
    "    rag.query(\"Name 5 key words based on this abstract, that I can use for the search in a patent database. Optimize the key words to get back more results. Result as python string.\")"
   ]
  },
  {
   "cell_type": "code",
   "execution_count": null,
   "metadata": {},
   "outputs": [],
   "source": [
    "tru.get_leaderboard(app_ids=[\"RAG Key Words\"])"
   ]
  },
  {
   "cell_type": "code",
   "execution_count": null,
   "metadata": {},
   "outputs": [],
   "source": [
    "\n",
    "tru_rag = TruCustomApp(rag,\n",
    "    app_id = 'RAG Classifications',\n",
    "    feedbacks = [f_groundedness, f_qa_relevance, f_context_relevance])"
   ]
  },
  {
   "cell_type": "code",
   "execution_count": null,
   "metadata": {},
   "outputs": [],
   "source": [
    "with tru_rag as recording:\n",
    "    rag.query(\"Name 5 CPC classifications based on this abstract, that I can use for the search in a patent database. \\\n",
    "Please give me a python string for the codes of the 5 most relevant \\\n",
    "CPC classifications to a possible patent.\")"
   ]
  },
  {
   "cell_type": "code",
   "execution_count": null,
   "metadata": {},
   "outputs": [],
   "source": [
    "tru.get_leaderboard(app_ids=[\"RAG Classifications\"])"
   ]
  },
  {
   "cell_type": "code",
   "execution_count": null,
   "metadata": {},
   "outputs": [],
   "source": [
    "\n",
    "tru_rag = TruCustomApp(rag,\n",
    "    app_id = 'RAG Patent Comparison',\n",
    "    feedbacks = [f_groundedness, f_qa_relevance, f_context_relevance])"
   ]
  },
  {
   "cell_type": "code",
   "execution_count": null,
   "metadata": {},
   "outputs": [],
   "source": [
    "with tru_rag as recording:\n",
    "    rag.query(f\"\"\"\n",
    "'The following texts are abstracts from patent specifications. Your task is to compare the novel invention from above to all the other abstracts from below. \\n\n",
    "It is important that you focus on comparing the concepts that the abstracts describe, not the way they are written. \\n\n",
    "Rank the remaining abstracts on how well they match with the Testing Abstract by giving them a rating from 0 to 10 points. \\n        \n",
    "0 meaning they have absolutely nothing in common and 10 meaning they basically describe the exact same idea.\\n  \n",
    "Your output should be a python dictionary with the title \"comparison\", each element hast the Abstract number as key and the rating as value.\\n        \n",
    "I want to convert your output string to an actual dictionary, so make sure the formatting is right.\\n\\n        \n",
    "        \n",
    "US20180201225A1: \"A method for authorizing a driver to activate at least one system of a vehicle, includes a preliminary phase that includes an initialization step, an enrollment step scanning enrollment biometric data of the driver, an access step for the driver to enter the vehicle, and a storage step registering enrollment biometric data in memory. The method also includes a subsequent phase that includes an authentication step scanning authentication biometric data of the driver and comparing said authentication biometric data with the enrollment biometric data in the memory, then an activation step wherein, if the authentication biometric data match with the enrollment biometric data, in authorizing the driver to activate the at least one system of the vehicle, or a refusal step wherein, if the authentication biometric data does not match with the enrollment biometric data, in forbidding the driver to activate the at least one system of the vehicle.\"\\nUS8952781B2: \"A biometrically authenticated access control in which a wireless authentication signal is provided from a primary instrumentality of access, only after a dual-stage biometric verification of the user\\'s identity is performed. In one embodiment, an accessing device includes memory for storing a device identification code and an authentication code, along with first and second biometric templates corresponding to biometric samples from a user. In another embodiment, an accessing device includes memory for storing a device identification code and more than one authentication code, for separate users, along with first and second biometric templates corresponding to biometric samples from multiple users. In order to gain access to a secured resource, a user undergoes first and second biometric sampling to generate biometric data to be compared with the first and second biometric templates.\"\\nCN111231893B: \"The invention relates to a method (17) for operating a shared vehicle (1) and to a corresponding shared vehicle (1). The invention provides that the biometric data of the holder of the driver\\'s license (14) is read from the driver\\'s license (14) carried by the user (5) by means of a data acquisition device (13). Furthermore, at least one biometric of the user (5) is detected by means of the identification device (13) during the stay of the user in the area of the shared vehicle (1). Next, to verify the read data, the data is compared with the detected biometric features. In the event of agreement between the read data and the detected biometric feature, i.e. when a positive test result is obtained, the shared vehicle (1) is activated for the user (5) for use.\"\\nUS8694793B2: \"Aspects and embodiments of the present disclosure provide devices and methods for biometric authentication of a user during access control transactions. In one aspect, an access control processor device, comprising a biometric input sensor configured to receive user biometric information; a biometric verification processor configured to authenticate the input user biometric information; and a communication element configured to activate when the biometric information entered into the biometric verification system is authenticated and maintain an inactive status for the communication element on the payment processor device when the biometric information entered into the biometric verification system is not authenticated.\"\\nEP1705085B1: \"A driver authenticating apparatus has a camera for capturing a facial image of a person in a driver seat, and a controller connected to the camera. The controller permits a driver to start an vehicle engine if the captured facial image matches a pre-registered facial image of an authorized driver. When restarting an engine with the driver present in the driver seat, the apparatus allows the driver to start the vehicle engine without an authenticating procedure.\"\\nUS9654468B2: \"Systems and methods for secure remote biometric authentication are provided. A network-based biometric authentication platform stores biometric templates for individuals which have been securely enrolled with the authentication platform. A plurality of sensor platforms separately establishes secure communications with the biometric authentication platform. The sensor platform can perform a biometric scan of an individual and generate a biometric authentication template. The sensor platform then requests biometric authentication of the individual by the biometric authentication platform via the established secure communications. The biometric authentication platform compares the generated biometric template to one or more of the enrolled biometric templates stored in memory at the biometric authentication platform. The result of the authentication is then communicated to the requesting sensor platform via the established secure communications.\"\\nUS11397800B2: \"A removable card-enabled BPID Security Device integrates a removable card reader with a biometric authentication component to provide secured access to electronic systems. The device allows for an individual to insert a removable card into an aperture in the physical enclosure of the BPID Security Device, allowing the removable card and the BPID Security Device to electronically communicate with each other. The BPID Security Device is based on a custom application specific integrated circuit that incorporates removable card terminals, such that the BPID Security Device can communicate directly with an inserted removable card. In an alternative embodiment of the invention, the BPID Security Device is based on a commercial off-the-shelf microprocessor, and may communicate with a commercial off-the-shelf microprocessor removable card receiver using a serial, USB, or other type of communication protocol. The device allows for enrolling a user\\'s credentials onto the BPID Security Device and for authenticating an individual using the BPID Security Device.\"\\nUS20160311400A1: \"The invention relates to a method for authenticating a driver (2) in a motor vehicle (1), having a detection device (10) which is arranged in the motor vehicle (1) and has the purpose of detecting actual data (50) of the driver (2) which is transmitted during the authentication to a checking device (20) which is arranged in an external station (3) outside the motor vehicle (1), wherein the checking device (20) compares the actual data (50) with setpoint data (60), and when the actual data (50) corresponds to the setpoint data (60) an enable signal (70) is transmitted from the external station (3) to the motor vehicle (1), as a result of which a starting process of the motor vehicle (1) for the driver (2) is made possible.\"\\nUS9376090B2: \"The invention relates to a method for authenticating a driver (2) in a motor vehicle (1) by means of a recognition device (10) disposed in the motor vehicle (1) for collecting actual data (50) of the driver (2) which are transmitted during the authentication to a checking device (20) disposed in an external station (3) outside the motor vehicle (1), wherein the checking device (20) compares the actual data (50) with the target data (60) and in the event of conformity of the actual data (50) with the target data (60) an enabling signal (70) is sent from the external station (3) to the motor vehicle (1), thus enabling the driver (2) to start the motor vehicle (1).\"\\n'\n",
    "\"\"\")"
   ]
  },
  {
   "cell_type": "code",
   "execution_count": null,
   "metadata": {},
   "outputs": [],
   "source": [
    "tru.get_leaderboard(app_ids=[\"RAG Patent Comparison\"])"
   ]
  }
 ],
 "metadata": {
  "kernelspec": {
   "display_name": "Python 3",
   "language": "python",
   "name": "python3"
  },
  "language_info": {
   "codemirror_mode": {
    "name": "ipython",
    "version": 3
   },
   "file_extension": ".py",
   "mimetype": "text/x-python",
   "name": "python",
   "nbconvert_exporter": "python",
   "pygments_lexer": "ipython3",
   "version": "3.10.13"
  }
 },
 "nbformat": 4,
 "nbformat_minor": 2
}
