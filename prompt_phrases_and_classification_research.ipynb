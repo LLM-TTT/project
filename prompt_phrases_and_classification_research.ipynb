{
 "cells": [
  {
   "cell_type": "code",
   "execution_count": 2,
   "metadata": {},
   "outputs": [],
   "source": [
    "#from langchain.output_parsers import StructuredOutputParser\n",
    "from langchain.output_parsers import ResponseSchema\n",
    "from langchain.prompts import ChatPromptTemplate\n",
    "from langchain.chat_models import ChatOpenAI\n",
    "import datetime\n",
    "import os\n",
    "import openai\n",
    "\n",
    "from dotenv import load_dotenv, find_dotenv\n",
    "_ = load_dotenv(find_dotenv())\n",
    "openai.api_key = os.environ['OPENAI_API_KEY']"
   ]
  },
  {
   "cell_type": "code",
   "execution_count": 3,
   "metadata": {},
   "outputs": [],
   "source": [
    "llm_model = \"gpt-4\"\n",
    "\n",
    "\n",
    "def get_completion(prompt, model=llm_model):\n",
    "    messages = [{\"role\": \"user\", \"content\": prompt}]\n",
    "    response = openai.ChatCompletion.create(\n",
    "        model=model,\n",
    "        messages=messages,\n",
    "        temperature=0,\n",
    "    )\n",
    "    return response.choices[0].message[\"content\"]"
   ]
  },
  {
   "cell_type": "code",
   "execution_count": 4,
   "metadata": {},
   "outputs": [],
   "source": [
    "from langchain.document_loaders import PyPDFLoader\n",
    "\n",
    "loader = PyPDFLoader(\"docs/Biometric Vehicle Access System.pdf\")\n",
    "pdf_abstract = loader.load_and_split()"
   ]
  },
  {
   "cell_type": "code",
   "execution_count": 5,
   "metadata": {},
   "outputs": [],
   "source": [
    "abstract1 = \"\"\"\n",
    "The Biometric Vehicle Access System (BVAS) is an innovative technology designed to revolutionize traditional vehicle security and access methods. This system employs advanced biometric authentication, including fingerprint and facial recognition, to ensure secure and convenient entry and ignition processes. BVAS enhances vehicle security by replacing traditional key-based and electronic fob systems with a seamless and personalized biometric verification process. The technology integrates biometric sensors into door handles, steering wheels, and ignition systems, allowing for quick and reliable user authentication. The BVAS not only provides an additional layer of security against unauthorized access but also enhances user convenience by eliminating the need for physical keys or key fobs. Users can effortlessly unlock, start, and operate their vehicles through a simple and rapid biometric scan. The system is designed with robust anti-spoofing measures to prevent unauthorized access attempts. Furthermore, BVAS contributes to the growing trend of biometric integration in smart vehicles, aligning with the industry's commitment to innovation, user experience, and safety. As vehicles continue to evolve into interconnected and autonomous entities, BVAS sets a new standard for personalized and secure access, catering to the increasing demand for sophisticated yet user-friendly solutions in the automotive sector.\n",
    "\"\"\""
   ]
  },
  {
   "cell_type": "code",
   "execution_count": 6,
   "metadata": {},
   "outputs": [],
   "source": [
    "abstract2 = \"\"\"\n",
    "The Biometric Vehicle Access System (BVAS) employs advanced fingerprint and facial recognition for secure and convenient vehicle entry. It replaces traditional key and fob systems with seamless biometric verification integrated into handles, steering wheels, and ignition. BVAS enhances security, eliminates the need for physical keys, and allows users to unlock and start their vehicles with a rapid biometric scan. The system includes anti-spoofing measures and aligns with the growing trend of biometric integration in smart vehicles, setting a new standard for personalized and secure access in the automotive sector.\n",
    "\"\"\""
   ]
  },
  {
   "cell_type": "code",
   "execution_count": 7,
   "metadata": {},
   "outputs": [],
   "source": [
    "abstract3 = \"\"\" \n",
    "BVAS revolutionizes vehicle security with advanced biometric authentication, eliminating keys for convenient entry. Integrated into handles and steering wheels, it sets a new standard for secure, user-friendly access, aligning with the trend of biometric integration in smart vehicles. \n",
    "\"\"\""
   ]
  },
  {
   "cell_type": "code",
   "execution_count": 8,
   "metadata": {},
   "outputs": [],
   "source": [
    "prompt1 = f\"\"\"```{pdf_abstract}```\\\n",
    "The abstract above describes a concept for a novel invention.\\\n",
    "I would like to search a patent database to find out whether \\\n",
    "there are already patents for such a concept. Name 5 phrases that I can \\\n",
    "use for the search. Each phrase should contain between 5 to 10 words. \\\n",
    "Optimize the phrases to get back more results.\n",
    "\"\"\""
   ]
  },
  {
   "cell_type": "code",
   "execution_count": 9,
   "metadata": {},
   "outputs": [],
   "source": [
    "prompt2 = f\"\"\"```{pdf_abstract}```\\\n",
    "The abstract above describes a concept for a novel invention.\\\n",
    "I would like to search a patent database to find out whether \\\n",
    "there are already patents for such a concept. Please list me the codes of the 5 most relevant \\\n",
    "USPTO classifications to a possible patent for this concept without explanations for the codes.\n",
    "\"\"\""
   ]
  },
  {
   "cell_type": "code",
   "execution_count": 10,
   "metadata": {},
   "outputs": [],
   "source": [
    "response_keywords = get_completion(prompt1)"
   ]
  },
  {
   "cell_type": "code",
   "execution_count": 11,
   "metadata": {},
   "outputs": [],
   "source": [
    "response_classes = get_completion(prompt2)"
   ]
  },
  {
   "cell_type": "code",
   "execution_count": 12,
   "metadata": {},
   "outputs": [
    {
     "name": "stdout",
     "output_type": "stream",
     "text": [
      "1. \"Biometric Vehicle Access System technology\"\n",
      "2. \"Biometric authentication in vehicle security\"\n",
      "3. \"Integration of biometric sensors in vehicles\"\n",
      "4. \"Anti-spoofing measures in vehicle access\"\n",
      "5. \"Biometric-based vehicle ignition systems\"\n",
      "----\n",
      "1. G06K9/00\n",
      "2. B60R25/10\n",
      "3. E05B49/00\n",
      "4. G07C9/00\n",
      "5. H04L29/06\n"
     ]
    }
   ],
   "source": [
    "print(response_keywords)\n",
    "print(\"----\")\n",
    "print(response_classes)"
   ]
  },
  {
   "cell_type": "code",
   "execution_count": 13,
   "metadata": {},
   "outputs": [],
   "source": [
    "import json\n",
    "\n",
    "f = open('data_dump/test.json')\n",
    "\n",
    "data = json.load(f)"
   ]
  },
  {
   "cell_type": "code",
   "execution_count": 14,
   "metadata": {},
   "outputs": [
    {
     "name": "stdout",
     "output_type": "stream",
     "text": [
      "Result 1 :  Method and system for localizing parts of an object in an image for computer …\n",
      "https://patentimages.storage.googleapis.com/a2/95/38/bcc3b288e56669/US9275273.pdf \n",
      "\n",
      "Result 2 :  Adaptive multi-modal integrated biometric identification and surveillance …\n",
      "https://patentimages.storage.googleapis.com/98/f0/22/ae169ef67be168/US9432632.pdf \n",
      "\n",
      "Result 3 :  Spoof detection for biometric authentication\n",
      "https://patentimages.storage.googleapis.com/84/29/92/5fe2a153298d2d/US9971920.pdf \n",
      "\n",
      "Result 4 :  Liveness testing methods and apparatuses and image processing methods and …\n",
      "https://patentimages.storage.googleapis.com/b1/98/34/94c48fd1f99eeb/US11151397.pdf \n",
      "\n",
      "Result 5 :  Biometrics based on locally consistent features\n",
      "https://patentimages.storage.googleapis.com/a6/11/c7/5583de7c8fb29d/US9060688.pdf \n",
      "\n",
      "Result 6 :  System and method for detecting the authenticity of products\n",
      "https://patentimages.storage.googleapis.com/9c/e5/fc/eb90d460e518de/US10956732.pdf \n",
      "\n",
      "Result 7 :  System and process for automatically analyzing currency objects\n",
      "https://patentimages.storage.googleapis.com/da/c5/41/ea81c81c813087/US10504073.pdf \n",
      "\n",
      "Result 8 :  Application of Z-webs and Z-factors to analytics, search engine, learning, …\n",
      "https://patentimages.storage.googleapis.com/7a/fb/91/5ff09b40c62ec6/US8873813.pdf \n",
      "\n",
      "Result 9 :  Portable biometric identification device using a dorsal hand vein pattern\n",
      "https://patentimages.storage.googleapis.com/7c/30/05/2dc2f874122207/US9095285.pdf \n",
      "\n",
      "Result 10 :  Methods and systems for content processing\n",
      "https://patentimages.storage.googleapis.com/85/75/62/8ef916adcc3d18/US10922957.pdf \n",
      "\n"
     ]
    }
   ],
   "source": [
    "for i in data['organic_results']:\n",
    "\n",
    "    print(\"Result\", i['position'], \": \", i['title'])\n",
    "    # print(i['snippet'], \"\\n\")\n",
    "    print(i['pdf'], \"\\n\")"
   ]
  },
  {
   "cell_type": "code",
   "execution_count": 15,
   "metadata": {},
   "outputs": [],
   "source": [
    "pdf_list = []\n",
    "for i in data['organic_results']:\n",
    "    loader = PyPDFLoader(i['pdf'])\n",
    "    pdf = loader.load_and_split()\n",
    "    pdf_list.append(pdf[0])\n",
    "\n",
    "    "
   ]
  },
  {
   "cell_type": "code",
   "execution_count": 16,
   "metadata": {},
   "outputs": [
    {
     "name": "stdout",
     "output_type": "stream",
     "text": [
      "page_content='(12) United States Patent \\n Cheng et al. USOO9432632B2 \\n US 9.432,632 B2 \\n Aug. 30, 2016 (10) Patent No.: \\n (45) Date of Patent: \\n (54) ADAPTIVE MULTI-MODAL INTEGRATED \\n BOMETRIC IDENTIFICATION AND \\n SURVELLANCE SYSTEMS \\n (71) Applicant: Proximex Corporation, Cupertino, CA \\n (US) \\n (72) Inventors: Ken P. Cheng, Saratoga, CA (US); \\n Edward Y. Chang, Santa Barbara, CA (US); Yuan-Fang Wang, Goleta, CA \\n (US) \\n (73) Assignee: Proximex Corporation, Cupertino, CA \\n (US) \\n Subject to any disclaimer, the term of this patent is extended or adjusted under 35 \\n U.S.C. 154(b) by 0 days. \\n (21) Appl. No.: 14/607,201 \\n (22) Filed: Jan. 28, 2015 \\n (65) Prior Publication Data \\n US 2015/O138332 A1 May 21, 2015 \\n Related U.S. Application Data \\n (60) Division of application No. 13/738,655, filed on Jan. \\n 10, 2013, now Pat. No. 8,976,237, and a continuation of application No. 13/101,149, filed on May 5, 2011, \\n now Pat. No. 8.373,753, and a division of application (*) Notice: \\n (Continued) \\n (51) Int. Cl. \\n H04N 7/8 (2006.01) \\n A6 IB I/00 (2006.01) \\n (Continued) \\n (52) U.S. Cl. \\n CPC H04N 7/18 (2013.01); G06K 9/00 (2013.01); G06K 9/00288 (2013.01); \\n (Continued) \\n (58) Field of Classification Search \\n USPC ........... 348/77; 340/506; 358/143, 147, 161, \\n 358/169; 707/4, 103: 382/103, 209, 276, 382/277, 289, 291, 293, 294, 295, 282,305, \\n 382/115, 107, 190 See application file for complete search history. \\n (56) References Cited \\n U.S. PATENT DOCUMENTS \\n 5,258,837 A \\n 5,473,369 A 11/1993 Gormley \\n 12, 1995 Abe \\n (Continued) \\n FOREIGN PATENT DOCUMENTS \\n WO 2007/044037 A1 4/2007 \\n OTHER PUBLICATIONS \\n PCT/US05/44656 International Search Report and Written Opinion, \\n Jun. 26, 2006. \\n (Continued) \\n Primary Examiner — Jerome Grant, II \\n (74) Attorney, Agent, or Firm — Dean D. Small: The Small \\n Patent Law Group, LLC. \\n (57) ABSTRACT \\n A Surveillance system is provided that includes at least one sensor disposed in a security area of a Surveillance region to sense an occurrence of a potential security breach event; a plurality of cameras is disposed in the Surveillance region; at \\n least one camera thereof has a view of the security area and can be configured to automatically gather biometric infor mation concerning at least one subject person in the vicinity of the security area in response to the sensing of a potential \\n security breach event; one or more other of the plurality of cameras can be configured to search for the at least one Subject person; a processing system is programmed to \\n produce a dossier corresponding to the at least one subject \\n person to match biometric information of one or more persons captured by one or more of the other cameras with corresponding biometric information in the dossier. \\n 35 Claims, 8 Drawing Sheets \\n Apply Monitoring Rule on Security Area \\n configure device and Security Area specific parameters (Door, \\n restricted area, etc.) \\n Environment \\n (Map) Admin \\n Security Area \\n Admin display a sist of available Monitoring rules to apply to security area (Based on device characteristics Display a list of available devices to selecticeselect for applying Monitoring rule Select Security Area to configure Monitoring rule \\n Monitoring rule (Security Function) \\n Admin Configure Schedule & \\n Eable Rule to start monitoring configured \\n area Setect Cotstation Monitoring rule' metadata={'source': 'https://patentimages.storage.googleapis.com/98/f0/22/ae169ef67be168/US9432632.pdf', 'page': 0}\n"
     ]
    }
   ],
   "source": [
    "test_py = pdf_list[1]\n",
    "\n",
    "print(test_py)"
   ]
  },
  {
   "cell_type": "markdown",
   "metadata": {},
   "source": [
    "page_content='(12) United States Patent \\n Cheng et al. USOO9432632B2 \\n US 9.432,632 B2 \\n Aug. 30, 2016 (10) Patent No.: \\n (45) Date of Patent: \\n (54) ADAPTIVE MULTI-MODAL INTEGRATED \\n BOMETRIC IDENTIFICATION AND \\n SURVELLANCE SYSTEMS \\n (71) Applicant: Proximex Corporation, Cupertino, CA \\n (US) \\n (72) Inventors: Ken P. Cheng, Saratoga, CA (US); \\n Edward Y. Chang, Santa Barbara, CA (US); Yuan-Fang Wang, Goleta, CA \\n (US) \\n (73) Assignee: Proximex Corporation, Cupertino, CA \\n (US) \\n Subject to any disclaimer, the term of this patent is extended or adjusted under 35 \\n U.S.C. 154(b) by 0 days. \\n (21) Appl. No.: 14/607,201 \\n (22) Filed: Jan. 28, 2015 \\n (65) Prior Publication Data \\n US 2015/O138332 A1 May 21, 2015 \\n Related U.S. Application Data \\n (60) Division of application No. 13/738,655, filed on Jan. \\n 10, 2013, now Pat. No. 8,976,237, and a continuation of application No. 13/101,149, filed on May 5, 2011, \\n now Pat. No. 8.373,753, and a division of application (*) Notice: \\n (Continued) \\n (51) Int. Cl. \\n H04N 7/8 (2006.01) \\n A6 IB I/00 (2006.01) \\n (Continued) \\n (52) U.S. Cl. \\n CPC H04N 7/18 (2013.01); G06K 9/00 (2013.01); G06K 9/00288 (2013.01); \\n (Continued) \\n (58) Field of Classification Search \\n USPC ........... 348/77; 340/506; 358/143, 147, 161, \\n 358/169; 707/4, 103: 382/103, 209, 276, 382/277, 289, 291, 293, 294, 295, 282,305, \\n 382/115, 107, 190 See application file for complete search history. \\n (56) References Cited \\n U.S. PATENT DOCUMENTS \\n 5,258,837 A \\n 5,473,369 A 11/1993 Gormley \\n 12, 1995 Abe \\n (Continued) \\n FOREIGN PATENT DOCUMENTS \\n WO 2007/044037 A1 4/2007 \\n OTHER PUBLICATIONS \\n PCT/US05/44656 International Search Report and Written Opinion, \\n Jun. 26, 2006. \\n (Continued) \\n Primary Examiner — Jerome Grant, II \\n (74) Attorney, Agent, or Firm — Dean D. Small: The Small \\n Patent Law Group, LLC. \\n (57) ABSTRACT \\n A Surveillance system is provided that includes at least one sensor disposed in a security area of a Surveillance region to sense an occurrence of a potential security breach event; a plurality of cameras is disposed in the Surveillance region; at \\n least one camera thereof has a view of the security area and can be configured to automatically gather biometric infor mation concerning at least one subject person in the vicinity of the security area in response to the sensing of a potential \\n security breach event; one or more other of the plurality of cameras can be configured to search for the at least one Subject person; a processing system is programmed to \\n produce a dossier corresponding to the at least one subject \\n person to match biometric information of one or more persons captured by one or more of the other cameras with corresponding biometric information in the dossier. \\n 35 Claims, 8 Drawing Sheets \\n Apply Monitoring Rule on Security Area \\n configure device and Security Area specific parameters (Door, \\n restricted area, etc.) \\n Environment \\n (Map) Admin \\n Security Area \\n Admin display a sist of available Monitoring rules to apply to security area (Based on device characteristics Display a list of available devices to selecticeselect for applying Monitoring rule Select Security Area to configure Monitoring rule \\n Monitoring rule (Security Function) \\n Admin Configure Schedule & \\n Eable Rule to start monitoring configured \\n area Setect Cotstation Monitoring rule' metadata={'source': 'https://patentimages.storage.googleapis.com/98/f0/22/ae169ef67be168/US9432632.pdf', 'page': 0}\n"
   ]
  },
  {
   "cell_type": "markdown",
   "metadata": {},
   "source": [
    "Die meisten Abstract scheinen mit \"ABSTRACT \\n\" zu beginnen und endet beim nächsten \"metadata=\""
   ]
  },
  {
   "cell_type": "code",
   "execution_count": 80,
   "metadata": {},
   "outputs": [
    {
     "name": "stdout",
     "output_type": "stream",
     "text": [
      "<class 'langchain_core.documents.base.Document'>\n"
     ]
    }
   ],
   "source": [
    "print(type(pdf_list[1]))"
   ]
  },
  {
   "cell_type": "markdown",
   "metadata": {},
   "source": [
    "Die enden nicht bei metadata, sondern die Class hängt die Metadaten am Ende einfach an. Deshalb \"enden\" die immer mit metadata."
   ]
  },
  {
   "cell_type": "code",
   "execution_count": 81,
   "metadata": {},
   "outputs": [
    {
     "name": "stdout",
     "output_type": "stream",
     "text": [
      "1898\n"
     ]
    }
   ],
   "source": [
    "abstract = str(test_py)\n",
    "print(abstract.find(\"ABSTRACT\"))\n",
    "removeHeadline = abstract.find(\"ABSTRACT\")"
   ]
  },
  {
   "cell_type": "code",
   "execution_count": 82,
   "metadata": {},
   "outputs": [
    {
     "name": "stdout",
     "output_type": "stream",
     "text": [
      "ABSTRACT \\n A Surveillance system is provided that includes at least one sensor disposed in a security area of a Surveillance region to sense an occurrence of a potential security breach event; a plurality of cameras is disposed in the Surveillance region; at \\n least one camera thereof has a view of the security area and can be configured to automatically gather biometric infor mation concerning at least one subject person in the vicinity of the security area in response to the sensing of a potential \\n security breach event; one or more other of the plurality of cameras can be configured to search for the at least one Subject person; a processing system is programmed to \\n produce a dossier corresponding to the at least one subject \\n person to match biometric information of one or more persons captured by one or more of the other cameras with corresponding biometric information in the dossier. \\n 35 Claims, 8 Drawing Sheets \\n Apply Monitoring Rule on Security Area \\n configure device and Security Area specific parameters (Door, \\n restricted area, etc.) \\n Environment \\n (Map) Admin \\n Security Area \\n Admin display a sist of available Monitoring rules to apply to security area (Based on device characteristics Display a list of available devices to selecticeselect for applying Monitoring rule Select Security Area to configure Monitoring rule \\n Monitoring rule (Security Function) \\n Admin Configure Schedule & \\n Eable Rule to start monitoring configured \\n area Setect Cotstation Monitoring rule' metadata={'source': 'https://patentimages.storage.googleapis.com/98/f0/22/ae169ef67be168/US9432632.pdf', 'page': 0}\n"
     ]
    }
   ],
   "source": [
    "print(abstract[removeHeadline:])"
   ]
  },
  {
   "cell_type": "code",
   "execution_count": 86,
   "metadata": {},
   "outputs": [
    {
     "name": "stdout",
     "output_type": "stream",
     "text": [
      "A Surveillance system is provided that includes at least one sensor disposed in a security area of a Surveillance region to sense an occurrence of a potential security breach event; a plurality of cameras is disposed in the Surveillance region; at \\n least one camera thereof has a view of the security area and can be configured to automatically gather biometric infor mation concerning at least one subject person in the vicinity of the security area in response to the sensing of a potential \\n security breach event; one or more other of the plurality of cameras can be configured to search for the at least one Subject person; a processing system is programmed to \\n produce a dossier corresponding to the at least one subject \\n person to match biometric information of one or more persons captured by one or more of the other cameras with corresponding biometric information in the dossier. \\n 35 Claims, 8 Drawing Sheets \\n Apply Monitoring Rule on Security Area \\n configure device and Security Area specific parameters (Door, \\n restricted area, etc.) \\n Environment \\n (Map) Admin \\n Security Area \\n Admin display a sist of available Monitoring rules to apply to security area (Based on device characteristics Display a list of available devices to selecticeselect for applying Monitoring rule Select Security Area to configure Monitoring rule \\n Monitoring rule (Security Function) \\n Admin Configure Schedule & \\n Eable Rule to start monitoring configured \\n area Setect Cotstation Monitoring rule' metadata={'source': 'https://patentimages.storage.googleapis.com/98/f0/22/ae169ef67be168/US9432632.pdf', 'page': 0}\n"
     ]
    }
   ],
   "source": [
    "abstractOhneHeadline = abstract[removeHeadline+12:] #+12 um Überschrift \"ABSTRACT \\n \" ebenfalls zu entfernen\n",
    "print(abstractOhneHeadline)"
   ]
  },
  {
   "cell_type": "code",
   "execution_count": 64,
   "metadata": {},
   "outputs": [
    {
     "name": "stdout",
     "output_type": "stream",
     "text": [
      "['A Surveillance system is provided that includes at least one sensor disposed in a security area of a Surveillance region to sense an occurrence of a potential security breach event; a plurality of cameras is disposed in the Surveillance region; at ', 'least one camera thereof has a view of the security area and can be configured to automatically gather biometric infor mation concerning at least one subject person in the vicinity of the security area in response to the sensing of a potential ', 'security breach event; one or more other of the plurality of cameras can be configured to search for the at least one Subject person; a processing system is programmed to ', 'produce a dossier corresponding to the at least one subject ', 'person to match biometric information of one or more persons captured by one or more of the other cameras with corresponding biometric information in the dossier. ', '35 Claims, 8 Drawing Sheets ', 'Apply Monitoring Rule on Security Area ', 'configure device and Security Area specific parameters (Door, ', 'restricted area, etc.) ', 'Environment ', '(Map) Admin ', 'Security Area ', 'Admin display a sist of available Monitoring rules to apply to security area (Based on device characteristics Display a list of available devices to selecticeselect for applying Monitoring rule Select Security Area to configure Monitoring rule ', 'Monitoring rule (Security Function) ', 'Admin Configure Schedule & ', 'Eable Rule to start monitoring configured ', \"area Setect Cotstation Monitoring rule' metadata={'source': 'https://patentimages.storage.googleapis.com/98/f0/22/ae169ef67be168/US9432632.pdf', 'page': 0}\"]\n",
      "A Surveillance system is provided that includes at least one sensor disposed in a security area of a Surveillance region to sense an occurrence of a potential security breach event; a plurality of cameras is disposed in the Surveillance region; at least one camera thereof has a view of the security area and can be configured to automatically gather biometric infor mation concerning at least one subject person in the vicinity of the security area in response to the sensing of a potential security breach event; one or more other of the plurality of cameras can be configured to search for the at least one Subject person; a processing system is programmed to produce a dossier corresponding to the at least one subject person to match biometric information of one or more persons captured by one or more of the other cameras with corresponding biometric information in the dossier. 35 Claims, 8 Drawing Sheets Apply Monitoring Rule on Security Area configure device and Security Area specific parameters (Door, restricted area, etc.) Environment (Map) Admin Security Area Admin display a sist of available Monitoring rules to apply to security area (Based on device characteristics Display a list of available devices to selecticeselect for applying Monitoring rule Select Security Area to configure Monitoring rule Monitoring rule (Security Function) Admin Configure Schedule & Eable Rule to start monitoring configured area Setect Cotstation Monitoring rule' metadata={'source': 'https://patentimages.storage.googleapis.com/98/f0/22/ae169ef67be168/US9432632.pdf', 'page': 0}\n"
     ]
    }
   ],
   "source": [
    "split_abstr = abstractOhneHeadline.split('\\\\n ')\n",
    "print(split_abstr)\n",
    "abstractOhneN = \"\".join(split_abstr)\n",
    "print(abstractOhneN)"
   ]
  },
  {
   "cell_type": "code",
   "execution_count": 75,
   "metadata": {},
   "outputs": [
    {
     "name": "stdout",
     "output_type": "stream",
     "text": [
      "A Surveillance system is provided that includes at least one sensor disposed in a security area of a Surveillance region to sense an occurrence of a potential security breach event; a plurality of cameras is disposed in the Surveillance region; at \\n least one camera thereof has a view of the security area and can be configured to automatically gather biometric infor mation concerning at least one subject person in the vicinity of the security area in response to the sensing of a potential \\n security breach event; one or more other of the plurality of cameras can be configured to search for the at least one Subject person; a processing system is programmed to \\n produce a dossier corresponding to the at least one subject \\n person to match biometric information of one or more persons captured by one or more of the other cameras with corresponding biometric information in the dossier. \\n \n"
     ]
    }
   ],
   "source": [
    "import re\n",
    "finddigit = re.search(r\"\\d\",abstractOhneN)\n",
    "x = finddigit.start()\n",
    "clean_abstract = abstractOhneN[:x]\n",
    "print(clean_abstract)"
   ]
  }
 ],
 "metadata": {
  "kernelspec": {
   "display_name": "lab",
   "language": "python",
   "name": "python3"
  },
  "language_info": {
   "codemirror_mode": {
    "name": "ipython",
    "version": 3
   },
   "file_extension": ".py",
   "mimetype": "text/x-python",
   "name": "python",
   "nbconvert_exporter": "python",
   "pygments_lexer": "ipython3",
   "version": "3.11.5"
  }
 },
 "nbformat": 4,
 "nbformat_minor": 2
}
